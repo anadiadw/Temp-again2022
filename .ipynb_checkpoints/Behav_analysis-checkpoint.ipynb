{
 "cells": [
  {
   "cell_type": "code",
   "execution_count": 71,
   "metadata": {},
   "outputs": [],
   "source": [
    "## importing all libraries and dependencies\n",
    "import pandas as pd\n",
    "import numpy as np\n",
    "import os\n",
    "from os import listdir\n",
    "import glob\n",
    "from os.path import isfile, join\n",
    "import shutil\n",
    "import PIL\n",
    "from PIL import Image\n",
    "import random\n",
    "import math\n",
    "from heapq import merge\n",
    "from random import *\n",
    "import scipy as sp\n",
    "from scipy import stats\n",
    "import seaborn as sns\n",
    "from matplotlib import pyplot as plt"
   ]
  },
  {
   "cell_type": "code",
   "execution_count": 72,
   "metadata": {},
   "outputs": [],
   "source": [
    "all_SSwithin_bias = []\n",
    "all_TTwithin_bias = []\n",
    "\n",
    "all_SSacross_bias = []\n",
    "all_STacross_bias = []\n",
    "all_TSacross_bias = []\n",
    "all_TTacross_bias = []"
   ]
  },
  {
   "cell_type": "code",
   "execution_count": 73,
   "metadata": {},
   "outputs": [],
   "source": [
    "data_dir = '/Users/ayesh/Desktop/Gradstuff/Temp_mem2022/SONA_data-selected/SONA_data/'\n",
    "dir_ext = [f for f in listdir(data_dir)]\n",
    "pt_dir_lst = []\n",
    "for i in dir_ext:\n",
    "    pt_dir = data_dir + i\n",
    "    pt_dir_lst.append(pt_dir)"
   ]
  },
  {
   "cell_type": "code",
   "execution_count": 328,
   "metadata": {},
   "outputs": [],
   "source": [
    "pt_dir = pt_dir_lst[12]"
   ]
  },
  {
   "cell_type": "code",
   "execution_count": 329,
   "metadata": {},
   "outputs": [],
   "source": [
    "encoding_files = []\n",
    "tempdist_files = []\n",
    "srcmem_files = []\n",
    "for pt in pt_dir:\n",
    "    pt_files = [f for f in listdir(pt_dir) if isfile(join(pt_dir, f))]\n",
    "\n",
    "for a in pt_files:\n",
    "    if a[-4:] == '.csv' and 'encoding' in a:\n",
    "        encoding_files.append(pt_dir + '/' + a)\n",
    "    if a[-4:] == '.csv' and 'temp_dist' in a:\n",
    "        tempdist_files.append(pt_dir + '/' + a)\n",
    "    if a[-4:] == '.csv' and 'src_mem' in a:\n",
    "        srcmem_files.append(pt_dir + '/' + a)"
   ]
  },
  {
   "cell_type": "code",
   "execution_count": 330,
   "metadata": {},
   "outputs": [
    {
     "data": {
      "text/plain": [
       "48"
      ]
     },
     "execution_count": 330,
     "metadata": {},
     "output_type": "execute_result"
    }
   ],
   "source": [
    "#1 add in column for pt number and run number\n",
    "#2 concat all the run csvs for each test\n",
    "#3 drop NAs\n",
    "len(pt_files)"
   ]
  },
  {
   "cell_type": "code",
   "execution_count": 331,
   "metadata": {},
   "outputs": [],
   "source": [
    "tempdf = []\n",
    "rn1 = tempdist_files[0]\n",
    "dt1 = pd.DataFrame(pd.read_csv(rn1, header = 0))\n",
    "dt1.columns = dt1.columns.str.replace(\".\", \"_\")\n",
    "dt1['run_num'] = '1'\n",
    "pt_num = dt1.participant[2]\n",
    "type(dt1)\n",
    "tempdf.append(dt1)\n",
    "for b in tempdist_files[1:]:\n",
    "    dt = pd.DataFrame(pd.read_csv(b, header = 0))\n",
    "    dt.columns = dt.columns.str.replace(\".\", \"_\")\n",
    "    dt['run_num'] = b[-32]\n",
    "    tempdf.append(dt)\n",
    "allTD_df = pd.concat(tempdf)\n",
    "allTD_df = allTD_df.dropna(subset=['context_num', 'contexts_pics', 'objects_pics'])\n",
    "pt_dt = 'C:/Users/ayesh/Desktop/Gradstuff/Temp_mem2022/summary_data/'\n",
    "os.makedirs(pt_dt, exist_ok=True)  \n",
    "allTD_df.to_csv(pt_dt+\"%s_ptsummary.csv\"%pt_num, index = True, header = True )"
   ]
  },
  {
   "cell_type": "code",
   "execution_count": 332,
   "metadata": {},
   "outputs": [
    {
     "data": {
      "text/html": [
       "<div>\n",
       "<style scoped>\n",
       "    .dataframe tbody tr th:only-of-type {\n",
       "        vertical-align: middle;\n",
       "    }\n",
       "\n",
       "    .dataframe tbody tr th {\n",
       "        vertical-align: top;\n",
       "    }\n",
       "\n",
       "    .dataframe thead th {\n",
       "        text-align: right;\n",
       "    }\n",
       "</style>\n",
       "<table border=\"1\" class=\"dataframe\">\n",
       "  <thead>\n",
       "    <tr style=\"text-align: right;\">\n",
       "      <th></th>\n",
       "      <th>context_num</th>\n",
       "      <th>context_type</th>\n",
       "      <th>context_shock</th>\n",
       "      <th>cntxt_trialnum</th>\n",
       "      <th>shock_object</th>\n",
       "      <th>us</th>\n",
       "      <th>shock_time</th>\n",
       "      <th>contexts_pics</th>\n",
       "      <th>condition</th>\n",
       "      <th>objects_pics</th>\n",
       "      <th>...</th>\n",
       "      <th>text_4_stopped</th>\n",
       "      <th>session</th>\n",
       "      <th>participant</th>\n",
       "      <th>date</th>\n",
       "      <th>expName</th>\n",
       "      <th>psychopyVersion</th>\n",
       "      <th>frameRate</th>\n",
       "      <th>Unnamed: 56</th>\n",
       "      <th>run_num</th>\n",
       "      <th>Unnamed: 51</th>\n",
       "    </tr>\n",
       "  </thead>\n",
       "  <tbody>\n",
       "    <tr>\n",
       "      <th>3</th>\n",
       "      <td>4.0</td>\n",
       "      <td>THREAT</td>\n",
       "      <td>prior</td>\n",
       "      <td>5.0</td>\n",
       "      <td>None</td>\n",
       "      <td>0.0</td>\n",
       "      <td>None</td>\n",
       "      <td>Scenes_selected/scene_098.jpeg</td>\n",
       "      <td>across_threat1</td>\n",
       "      <td>transpobjects/object396.png</td>\n",
       "      <td>...</td>\n",
       "      <td>NaN</td>\n",
       "      <td>1.0</td>\n",
       "      <td>18.0</td>\n",
       "      <td>2022-11-28_12h30.46.239</td>\n",
       "      <td>temp_dist.py</td>\n",
       "      <td>2022.2.1</td>\n",
       "      <td>58.912487</td>\n",
       "      <td>NaN</td>\n",
       "      <td>1</td>\n",
       "      <td>NaN</td>\n",
       "    </tr>\n",
       "    <tr>\n",
       "      <th>4</th>\n",
       "      <td>12.0</td>\n",
       "      <td>SAFE</td>\n",
       "      <td>None</td>\n",
       "      <td>5.0</td>\n",
       "      <td>None</td>\n",
       "      <td>0.0</td>\n",
       "      <td>None</td>\n",
       "      <td>Scenes_selected/scene_004.jpg</td>\n",
       "      <td>across_safe1</td>\n",
       "      <td>transpobjects/object148.png</td>\n",
       "      <td>...</td>\n",
       "      <td>NaN</td>\n",
       "      <td>1.0</td>\n",
       "      <td>18.0</td>\n",
       "      <td>2022-11-28_12h30.46.239</td>\n",
       "      <td>temp_dist.py</td>\n",
       "      <td>2022.2.1</td>\n",
       "      <td>58.912487</td>\n",
       "      <td>NaN</td>\n",
       "      <td>1</td>\n",
       "      <td>NaN</td>\n",
       "    </tr>\n",
       "    <tr>\n",
       "      <th>5</th>\n",
       "      <td>15.0</td>\n",
       "      <td>SAFE</td>\n",
       "      <td>None</td>\n",
       "      <td>5.0</td>\n",
       "      <td>None</td>\n",
       "      <td>0.0</td>\n",
       "      <td>None</td>\n",
       "      <td>Scenes_selected/scene_013.jpg</td>\n",
       "      <td>across_safe1</td>\n",
       "      <td>transpobjects/object211.png</td>\n",
       "      <td>...</td>\n",
       "      <td>NaN</td>\n",
       "      <td>1.0</td>\n",
       "      <td>18.0</td>\n",
       "      <td>2022-11-28_12h30.46.239</td>\n",
       "      <td>temp_dist.py</td>\n",
       "      <td>2022.2.1</td>\n",
       "      <td>58.912487</td>\n",
       "      <td>NaN</td>\n",
       "      <td>1</td>\n",
       "      <td>NaN</td>\n",
       "    </tr>\n",
       "    <tr>\n",
       "      <th>6</th>\n",
       "      <td>5.0</td>\n",
       "      <td>SAFE</td>\n",
       "      <td>None</td>\n",
       "      <td>5.0</td>\n",
       "      <td>None</td>\n",
       "      <td>0.0</td>\n",
       "      <td>None</td>\n",
       "      <td>Scenes_selected/scene_033.jpg</td>\n",
       "      <td>across_safe1</td>\n",
       "      <td>transpobjects/object119.png</td>\n",
       "      <td>...</td>\n",
       "      <td>NaN</td>\n",
       "      <td>1.0</td>\n",
       "      <td>18.0</td>\n",
       "      <td>2022-11-28_12h30.46.239</td>\n",
       "      <td>temp_dist.py</td>\n",
       "      <td>2022.2.1</td>\n",
       "      <td>58.912487</td>\n",
       "      <td>NaN</td>\n",
       "      <td>1</td>\n",
       "      <td>NaN</td>\n",
       "    </tr>\n",
       "    <tr>\n",
       "      <th>7</th>\n",
       "      <td>4.0</td>\n",
       "      <td>THREAT</td>\n",
       "      <td>prior</td>\n",
       "      <td>2.0</td>\n",
       "      <td>None</td>\n",
       "      <td>0.0</td>\n",
       "      <td>None</td>\n",
       "      <td>Scenes_selected/scene_098.jpeg</td>\n",
       "      <td>within_threat1</td>\n",
       "      <td>transpobjects/object281.png</td>\n",
       "      <td>...</td>\n",
       "      <td>NaN</td>\n",
       "      <td>1.0</td>\n",
       "      <td>18.0</td>\n",
       "      <td>2022-11-28_12h30.46.239</td>\n",
       "      <td>temp_dist.py</td>\n",
       "      <td>2022.2.1</td>\n",
       "      <td>58.912487</td>\n",
       "      <td>NaN</td>\n",
       "      <td>1</td>\n",
       "      <td>NaN</td>\n",
       "    </tr>\n",
       "    <tr>\n",
       "      <th>...</th>\n",
       "      <td>...</td>\n",
       "      <td>...</td>\n",
       "      <td>...</td>\n",
       "      <td>...</td>\n",
       "      <td>...</td>\n",
       "      <td>...</td>\n",
       "      <td>...</td>\n",
       "      <td>...</td>\n",
       "      <td>...</td>\n",
       "      <td>...</td>\n",
       "      <td>...</td>\n",
       "      <td>...</td>\n",
       "      <td>...</td>\n",
       "      <td>...</td>\n",
       "      <td>...</td>\n",
       "      <td>...</td>\n",
       "      <td>...</td>\n",
       "      <td>...</td>\n",
       "      <td>...</td>\n",
       "      <td>...</td>\n",
       "      <td>...</td>\n",
       "    </tr>\n",
       "    <tr>\n",
       "      <th>32</th>\n",
       "      <td>11.0</td>\n",
       "      <td>THREAT</td>\n",
       "      <td>None</td>\n",
       "      <td>2.0</td>\n",
       "      <td>None</td>\n",
       "      <td>0.0</td>\n",
       "      <td>None</td>\n",
       "      <td>Scenes_selected/scene_066.jpg</td>\n",
       "      <td>within_threat1</td>\n",
       "      <td>transpobjects/2020-03-26(126).png</td>\n",
       "      <td>...</td>\n",
       "      <td>NaN</td>\n",
       "      <td>1.0</td>\n",
       "      <td>18.0</td>\n",
       "      <td>2022-11-28_13h21.03.360</td>\n",
       "      <td>temp_dist5.py</td>\n",
       "      <td>2022.2.1</td>\n",
       "      <td>59.623573</td>\n",
       "      <td>NaN</td>\n",
       "      <td>5</td>\n",
       "      <td>NaN</td>\n",
       "    </tr>\n",
       "    <tr>\n",
       "      <th>33</th>\n",
       "      <td>11.0</td>\n",
       "      <td>THREAT</td>\n",
       "      <td>None</td>\n",
       "      <td>5.0</td>\n",
       "      <td>None</td>\n",
       "      <td>0.0</td>\n",
       "      <td>None</td>\n",
       "      <td>Scenes_selected/scene_066.jpg</td>\n",
       "      <td>across_threat1</td>\n",
       "      <td>transpobjects/object135.png</td>\n",
       "      <td>...</td>\n",
       "      <td>NaN</td>\n",
       "      <td>1.0</td>\n",
       "      <td>18.0</td>\n",
       "      <td>2022-11-28_13h21.03.360</td>\n",
       "      <td>temp_dist5.py</td>\n",
       "      <td>2022.2.1</td>\n",
       "      <td>59.623573</td>\n",
       "      <td>NaN</td>\n",
       "      <td>5</td>\n",
       "      <td>NaN</td>\n",
       "    </tr>\n",
       "    <tr>\n",
       "      <th>34</th>\n",
       "      <td>9.0</td>\n",
       "      <td>SAFE</td>\n",
       "      <td>prior</td>\n",
       "      <td>2.0</td>\n",
       "      <td>None</td>\n",
       "      <td>0.0</td>\n",
       "      <td>None</td>\n",
       "      <td>Scenes_selected/scene_070.jpg</td>\n",
       "      <td>within_safe1</td>\n",
       "      <td>transpobjects/object297.png</td>\n",
       "      <td>...</td>\n",
       "      <td>NaN</td>\n",
       "      <td>1.0</td>\n",
       "      <td>18.0</td>\n",
       "      <td>2022-11-28_13h21.03.360</td>\n",
       "      <td>temp_dist5.py</td>\n",
       "      <td>2022.2.1</td>\n",
       "      <td>59.623573</td>\n",
       "      <td>NaN</td>\n",
       "      <td>5</td>\n",
       "      <td>NaN</td>\n",
       "    </tr>\n",
       "    <tr>\n",
       "      <th>35</th>\n",
       "      <td>14.0</td>\n",
       "      <td>SAFE</td>\n",
       "      <td>None</td>\n",
       "      <td>2.0</td>\n",
       "      <td>None</td>\n",
       "      <td>0.0</td>\n",
       "      <td>None</td>\n",
       "      <td>Scenes_selected/scene_056.jpg</td>\n",
       "      <td>within_safe1</td>\n",
       "      <td>transpobjects/object387.png</td>\n",
       "      <td>...</td>\n",
       "      <td>NaN</td>\n",
       "      <td>1.0</td>\n",
       "      <td>18.0</td>\n",
       "      <td>2022-11-28_13h21.03.360</td>\n",
       "      <td>temp_dist5.py</td>\n",
       "      <td>2022.2.1</td>\n",
       "      <td>59.623573</td>\n",
       "      <td>NaN</td>\n",
       "      <td>5</td>\n",
       "      <td>NaN</td>\n",
       "    </tr>\n",
       "    <tr>\n",
       "      <th>36</th>\n",
       "      <td>7.0</td>\n",
       "      <td>THREAT</td>\n",
       "      <td>None</td>\n",
       "      <td>5.0</td>\n",
       "      <td>None</td>\n",
       "      <td>0.0</td>\n",
       "      <td>None</td>\n",
       "      <td>Scenes_selected/scene_046.jpg</td>\n",
       "      <td>across_threat1</td>\n",
       "      <td>transpobjects/object460.png</td>\n",
       "      <td>...</td>\n",
       "      <td>NaN</td>\n",
       "      <td>1.0</td>\n",
       "      <td>18.0</td>\n",
       "      <td>2022-11-28_13h21.03.360</td>\n",
       "      <td>temp_dist5.py</td>\n",
       "      <td>2022.2.1</td>\n",
       "      <td>59.623573</td>\n",
       "      <td>NaN</td>\n",
       "      <td>5</td>\n",
       "      <td>NaN</td>\n",
       "    </tr>\n",
       "  </tbody>\n",
       "</table>\n",
       "<p>175 rows × 59 columns</p>\n",
       "</div>"
      ],
      "text/plain": [
       "    context_num context_type context_shock  cntxt_trialnum shock_object   us  \\\n",
       "3           4.0       THREAT         prior             5.0         None  0.0   \n",
       "4          12.0         SAFE          None             5.0         None  0.0   \n",
       "5          15.0         SAFE          None             5.0         None  0.0   \n",
       "6           5.0         SAFE          None             5.0         None  0.0   \n",
       "7           4.0       THREAT         prior             2.0         None  0.0   \n",
       "..          ...          ...           ...             ...          ...  ...   \n",
       "32         11.0       THREAT          None             2.0         None  0.0   \n",
       "33         11.0       THREAT          None             5.0         None  0.0   \n",
       "34          9.0         SAFE         prior             2.0         None  0.0   \n",
       "35         14.0         SAFE          None             2.0         None  0.0   \n",
       "36          7.0       THREAT          None             5.0         None  0.0   \n",
       "\n",
       "   shock_time                   contexts_pics       condition  \\\n",
       "3        None  Scenes_selected/scene_098.jpeg  across_threat1   \n",
       "4        None   Scenes_selected/scene_004.jpg    across_safe1   \n",
       "5        None   Scenes_selected/scene_013.jpg    across_safe1   \n",
       "6        None   Scenes_selected/scene_033.jpg    across_safe1   \n",
       "7        None  Scenes_selected/scene_098.jpeg  within_threat1   \n",
       "..        ...                             ...             ...   \n",
       "32       None   Scenes_selected/scene_066.jpg  within_threat1   \n",
       "33       None   Scenes_selected/scene_066.jpg  across_threat1   \n",
       "34       None   Scenes_selected/scene_070.jpg    within_safe1   \n",
       "35       None   Scenes_selected/scene_056.jpg    within_safe1   \n",
       "36       None   Scenes_selected/scene_046.jpg  across_threat1   \n",
       "\n",
       "                         objects_pics  ...  text_4_stopped session  \\\n",
       "3         transpobjects/object396.png  ...             NaN     1.0   \n",
       "4         transpobjects/object148.png  ...             NaN     1.0   \n",
       "5         transpobjects/object211.png  ...             NaN     1.0   \n",
       "6         transpobjects/object119.png  ...             NaN     1.0   \n",
       "7         transpobjects/object281.png  ...             NaN     1.0   \n",
       "..                                ...  ...             ...     ...   \n",
       "32  transpobjects/2020-03-26(126).png  ...             NaN     1.0   \n",
       "33        transpobjects/object135.png  ...             NaN     1.0   \n",
       "34        transpobjects/object297.png  ...             NaN     1.0   \n",
       "35        transpobjects/object387.png  ...             NaN     1.0   \n",
       "36        transpobjects/object460.png  ...             NaN     1.0   \n",
       "\n",
       "   participant                     date        expName  psychopyVersion  \\\n",
       "3         18.0  2022-11-28_12h30.46.239   temp_dist.py         2022.2.1   \n",
       "4         18.0  2022-11-28_12h30.46.239   temp_dist.py         2022.2.1   \n",
       "5         18.0  2022-11-28_12h30.46.239   temp_dist.py         2022.2.1   \n",
       "6         18.0  2022-11-28_12h30.46.239   temp_dist.py         2022.2.1   \n",
       "7         18.0  2022-11-28_12h30.46.239   temp_dist.py         2022.2.1   \n",
       "..         ...                      ...            ...              ...   \n",
       "32        18.0  2022-11-28_13h21.03.360  temp_dist5.py         2022.2.1   \n",
       "33        18.0  2022-11-28_13h21.03.360  temp_dist5.py         2022.2.1   \n",
       "34        18.0  2022-11-28_13h21.03.360  temp_dist5.py         2022.2.1   \n",
       "35        18.0  2022-11-28_13h21.03.360  temp_dist5.py         2022.2.1   \n",
       "36        18.0  2022-11-28_13h21.03.360  temp_dist5.py         2022.2.1   \n",
       "\n",
       "    frameRate Unnamed: 56 run_num Unnamed: 51  \n",
       "3   58.912487         NaN       1         NaN  \n",
       "4   58.912487         NaN       1         NaN  \n",
       "5   58.912487         NaN       1         NaN  \n",
       "6   58.912487         NaN       1         NaN  \n",
       "7   58.912487         NaN       1         NaN  \n",
       "..        ...         ...     ...         ...  \n",
       "32  59.623573         NaN       5         NaN  \n",
       "33  59.623573         NaN       5         NaN  \n",
       "34  59.623573         NaN       5         NaN  \n",
       "35  59.623573         NaN       5         NaN  \n",
       "36  59.623573         NaN       5         NaN  \n",
       "\n",
       "[175 rows x 59 columns]"
      ]
     },
     "execution_count": 332,
     "metadata": {},
     "output_type": "execute_result"
    }
   ],
   "source": [
    "allTD_df"
   ]
  },
  {
   "cell_type": "code",
   "execution_count": 333,
   "metadata": {},
   "outputs": [],
   "source": [
    "very_close = []\n",
    "close = []\n",
    "far = []\n",
    "very_far = []\n",
    "\n",
    "dt = pd.read_csv(pt_dt+\"%s_ptsummary.csv\"%pt_num)"
   ]
  },
  {
   "cell_type": "code",
   "execution_count": 334,
   "metadata": {},
   "outputs": [
    {
     "data": {
      "text/plain": [
       "0      2.0\n",
       "1      2.0\n",
       "2      2.0\n",
       "3      2.0\n",
       "4      2.0\n",
       "      ... \n",
       "170    3.0\n",
       "171    2.0\n",
       "172    2.0\n",
       "173    3.0\n",
       "174    1.0\n",
       "Name: key_resp_keys, Length: 175, dtype: float64"
      ]
     },
     "execution_count": 334,
     "metadata": {},
     "output_type": "execute_result"
    }
   ],
   "source": [
    "dt.key_resp_keys"
   ]
  },
  {
   "cell_type": "code",
   "execution_count": 335,
   "metadata": {},
   "outputs": [],
   "source": [
    "shrt_df = pd.DataFrame({ \n",
    "                        'contxt1': dt.context_type,\n",
    "                        'contxt2': dt.context_type2,\n",
    "                        'context_shock':dt.context_shock,\n",
    "                        'context_shock2':dt.context_shock2,\n",
    "                        'cond1': dt.condition,\n",
    "                        'cond2': dt.condition2,\n",
    "                        'resp': dt.key_resp_keys,\n",
    "                        'rt': dt.key_resp_rt})"
   ]
  },
  {
   "cell_type": "code",
   "execution_count": 336,
   "metadata": {},
   "outputs": [
    {
     "data": {
      "text/plain": [
       "'across_threat1'"
      ]
     },
     "execution_count": 336,
     "metadata": {},
     "output_type": "execute_result"
    }
   ],
   "source": [
    "shrt_df.cond1[6]"
   ]
  },
  {
   "cell_type": "code",
   "execution_count": 337,
   "metadata": {},
   "outputs": [],
   "source": [
    "within_TT = []\n",
    "within_SS = []\n",
    "\n",
    "across_TT = []\n",
    "across_TS = []\n",
    "across_ST = []\n",
    "across_SS = []\n",
    "\n",
    "rt_within_TT = []\n",
    "rt_within_SS = []\n",
    "\n",
    "rt_across_TT = []\n",
    "rt_across_TS = []\n",
    "rt_across_ST = []\n",
    "rt_across_SS = []\n",
    "\n",
    "for index, row in shrt_df.iterrows():\n",
    "    resp_dt = shrt_df.resp\n",
    "    resp_rt = shrt_df.rt\n",
    "    if shrt_df.cond1[index] == 'within_threat1' and shrt_df.cond2[index] == 'within_threat2':\n",
    "        within_TT.append(resp_dt[index])\n",
    "        rt_within_TT.append(resp_rt[index])\n",
    "        \n",
    "    if shrt_df.cond1[index] == 'within_safe1' and shrt_df.cond2[index] == 'within_safe2':\n",
    "        within_SS.append(resp_dt[index])\n",
    "        rt_within_SS.append(resp_rt[index])\n",
    "        \n",
    "for index, row in shrt_df.iterrows():\n",
    "    resp_dt = shrt_df.resp\n",
    "    resp_rt = shrt_df.rt\n",
    "    if shrt_df.cond1[index] == 'across_threat1' and shrt_df.cond2[index] == 'across_threat2' and shrt_df.context_shock[index] != 'prior' and shrt_df.context_shock2[index] != 'post':\n",
    "        across_TT.append(resp_dt[index])\n",
    "        rt_across_TT.append(resp_rt[index])\n",
    "        \n",
    "    if shrt_df.cond1[index] == 'across_threat1' and shrt_df.cond2[index] == 'across_safe2' and shrt_df.context_shock[index] != 'prior' and shrt_df.context_shock2[index] != 'post':\n",
    "        across_TS.append(resp_dt[index])\n",
    "        rt_across_TS.append(resp_rt[index])\n",
    "        \n",
    "    if shrt_df.cond1[index] == 'across_safe1' and shrt_df.cond2[index] == 'across_threat2' and shrt_df.context_shock[index] != 'prior' and shrt_df.context_shock2[index] != 'post':\n",
    "        across_ST.append(resp_dt[index])\n",
    "        rt_across_ST.append(resp_rt[index])\n",
    "    \n",
    "    if shrt_df.cond1[index] == 'across_safe1' and shrt_df.cond2[index] == 'across_safe2' and shrt_df.context_shock[index] != 'prior' and shrt_df.context_shock2[index] != 'post':\n",
    "        across_SS.append(resp_dt[index])\n",
    "        rt_across_SS.append(resp_rt[index])"
   ]
  },
  {
   "cell_type": "code",
   "execution_count": 338,
   "metadata": {},
   "outputs": [
    {
     "data": {
      "text/plain": [
       "[2.0,\n",
       " 2.0,\n",
       " 4.0,\n",
       " 1.0,\n",
       " 2.0,\n",
       " 3.0,\n",
       " 2.0,\n",
       " 2.0,\n",
       " 2.0,\n",
       " 4.0,\n",
       " 2.0,\n",
       " 3.0,\n",
       " 1.0,\n",
       " 2.0,\n",
       " 3.0,\n",
       " 2.0,\n",
       " 4.0,\n",
       " 2.0,\n",
       " 3.0,\n",
       " 2.0]"
      ]
     },
     "execution_count": 338,
     "metadata": {},
     "output_type": "execute_result"
    }
   ],
   "source": [
    "(across_ST)"
   ]
  },
  {
   "cell_type": "code",
   "execution_count": 339,
   "metadata": {},
   "outputs": [],
   "source": [
    "SSwithin_close = []\n",
    "SSwithin_far = []\n",
    "\n",
    "TTwithin_close = []\n",
    "TTwithin_far = []\n",
    "\n",
    "for a in within_SS:\n",
    "    if a == 1 or a == 2:\n",
    "        SSwithin_close.append(a)\n",
    "    if a == 3 or a == 4:\n",
    "        SSwithin_far.append(a)\n",
    "        \n",
    "for a in within_TT:\n",
    "    if a == 1 or a == 2:\n",
    "        TTwithin_close.append(a)\n",
    "    if a == 3 or a == 4:\n",
    "        TTwithin_far.append(a)"
   ]
  },
  {
   "cell_type": "code",
   "execution_count": 340,
   "metadata": {},
   "outputs": [],
   "source": [
    "SSacross_close = []\n",
    "SSacross_far = []\n",
    "\n",
    "STacross_close = []\n",
    "STacross_far = []\n",
    "\n",
    "TSacross_close = []\n",
    "TSacross_far = []\n",
    "\n",
    "TTacross_close = []\n",
    "TTacross_far = []\n",
    "\n",
    "for c in across_SS:\n",
    "    if c == 1 or c == 2:\n",
    "        SSacross_close.append(a)\n",
    "    if c == 3 or c == 4:\n",
    "        SSacross_far.append(a)\n",
    "        \n",
    "for c in across_TT:\n",
    "    if c == 1 or c == 2:\n",
    "        TTacross_close.append(a)\n",
    "    if c == 3 or c == 4:\n",
    "        TTacross_far.append(a)\n",
    "        \n",
    "for c in across_ST:\n",
    "    if c == 1 or c == 2:\n",
    "        STacross_close.append(a)\n",
    "    if c == 3 or c == 4:\n",
    "        STacross_far.append(a)\n",
    "        \n",
    "for c in across_TS:\n",
    "    if c == 1 or c == 2:\n",
    "        TSacross_close.append(a)\n",
    "    if c == 3 or c == 4:\n",
    "        TSacross_far.append(a)\n"
   ]
  },
  {
   "cell_type": "code",
   "execution_count": 341,
   "metadata": {},
   "outputs": [
    {
     "data": {
      "text/plain": [
       "[2.0,\n",
       " 1.0,\n",
       " 2.0,\n",
       " 3.0,\n",
       " 4.0,\n",
       " 3.0,\n",
       " 3.0,\n",
       " 1.0,\n",
       " 2.0,\n",
       " 3.0,\n",
       " 2.0,\n",
       " 2.0,\n",
       " 2.0,\n",
       " 3.0,\n",
       " 2.0,\n",
       " 2.0,\n",
       " 2.0,\n",
       " 3.0,\n",
       " 2.0,\n",
       " 1.0]"
      ]
     },
     "execution_count": 341,
     "metadata": {},
     "output_type": "execute_result"
    }
   ],
   "source": [
    "across_TS"
   ]
  },
  {
   "cell_type": "code",
   "execution_count": 342,
   "metadata": {},
   "outputs": [],
   "source": [
    "SSwithin_bias = (len(SSwithin_close)-len(SSwithin_far))/(len(SSwithin_close)+len(SSwithin_far))\n",
    "all_SSwithin_bias.append(SSwithin_bias)\n",
    "TTwithin_bias = (len(TTwithin_close)-len(TTwithin_far))/(len(TTwithin_close)+len(TTwithin_far))\n",
    "all_TTwithin_bias.append(TTwithin_bias)\n",
    "\n",
    "SSacross_bias = (len(SSacross_close)-len(SSacross_far))/(len(SSacross_close)+len(SSacross_far))\n",
    "all_SSacross_bias.append(SSacross_bias)\n",
    "STacross_bias = (len(STacross_close)-len(STacross_far))/(len(STacross_close)+len(STacross_far))\n",
    "all_STacross_bias.append(STacross_bias)\n",
    "TSacross_bias = (len(TSacross_close)-len(TSacross_far))/(len(TSacross_close)+len(TSacross_far))\n",
    "all_TSacross_bias.append(TSacross_bias)\n",
    "TTacross_bias = (len(TTacross_close)-len(TTacross_far))/(len(TTacross_close)+len(TTacross_far))\n",
    "all_TTacross_bias.append(TTacross_bias)"
   ]
  },
  {
   "cell_type": "code",
   "execution_count": 343,
   "metadata": {},
   "outputs": [
    {
     "data": {
      "text/plain": [
       "[3.0, 3.0, 3.0, 3.0, 3.0, 3.0, 3.0]"
      ]
     },
     "execution_count": 343,
     "metadata": {},
     "output_type": "execute_result"
    }
   ],
   "source": [
    "STacross_far"
   ]
  },
  {
   "cell_type": "code",
   "execution_count": 344,
   "metadata": {},
   "outputs": [
    {
     "data": {
      "text/plain": [
       "Text(0.5, 1.0, '18.0_Within context temporal bias')"
      ]
     },
     "execution_count": 344,
     "metadata": {},
     "output_type": "execute_result"
    },
    {
     "data": {
      "image/png": "[encoded data removed]",
      "text/plain": [
       "<Figure size 432x288 with 1 Axes>"
      ]
     },
     "metadata": {
      "needs_background": "light"
     },
     "output_type": "display_data"
    }
   ],
   "source": [
    "x = ['Safe', 'Threat']\n",
    "y = [SSwithin_bias, TTwithin_bias]\n",
    "plt.bar(x, y, width=0.8, bottom=None, color = ['black', 'purple'], align='center', data=None)\n",
    "plt.ylim(-1, 1)\n",
    "plt.xlabel(\"Context\", fontsize = \"x-large\")\n",
    "plt.xticks(fontsize = \"x-large\")\n",
    "plt.ylabel(\"Close-bias\", fontsize = \"x-large\")\n",
    "plt.yticks(fontsize = \"x-large\")\n",
    "plt.title(\"%s_Within context temporal bias\"%pt_num, fontsize = \"x-large\")"
   ]
  },
  {
   "cell_type": "code",
   "execution_count": 345,
   "metadata": {},
   "outputs": [
    {
     "data": {
      "text/plain": [
       "Text(0.5, 1.0, '18.0_Across context temporal bias')"
      ]
     },
     "execution_count": 345,
     "metadata": {},
     "output_type": "execute_result"
    },
    {
     "data": {
      "image/png": "[encoded data removed]",
      "text/plain": [
       "<Figure size 432x288 with 1 Axes>"
      ]
     },
     "metadata": {
      "needs_background": "light"
     },
     "output_type": "display_data"
    }
   ],
   "source": [
    "x = ['S-S', 'S-T', 'T-S', 'T-T']\n",
    "y = [SSacross_bias, STacross_bias, TSacross_bias, TTacross_bias]\n",
    "plt.bar(x, y, width=0.8, bottom=None, color = ['green', 'limegreen', 'gold','crimson'], align='center', data=None)\n",
    "plt.ylim(-1, 1)\n",
    "plt.xlabel(\"Context\", fontsize = \"x-large\")\n",
    "plt.xticks(fontsize = \"x-large\")\n",
    "plt.ylabel(\"Close-bias\", fontsize = \"x-large\")\n",
    "plt.yticks(fontsize = \"x-large\")\n",
    "plt.title(\"%s_Across context temporal bias\"%pt_num, fontsize = \"x-large\")"
   ]
  },
  {
   "cell_type": "code",
   "execution_count": 346,
   "metadata": {},
   "outputs": [
    {
     "data": {
      "text/plain": [
       "Text(0.5, 1.0, 'All pts_Across context temporal bias')"
      ]
     },
     "execution_count": 346,
     "metadata": {},
     "output_type": "execute_result"
    },
    {
     "data": {
      "image/png": "[encoded data removed]",
      "text/plain": [
       "<Figure size 432x288 with 1 Axes>"
      ]
     },
     "metadata": {
      "needs_background": "light"
     },
     "output_type": "display_data"
    }
   ],
   "source": [
    "x = ['Safe', 'Threat','S-S', 'S-T', 'T-S', 'T-T']\n",
    "y = [np.mean(all_SSwithin_bias), np.mean(all_TTwithin_bias), np.mean(all_SSacross_bias), np.mean(all_STacross_bias), np.mean(all_TSacross_bias), np.mean(all_TTacross_bias)]\n",
    "plt.bar(x, y, width=0.8, bottom=None, color = ['black', 'purple','green', 'limegreen', 'gold','crimson'], align='center', data=None)\n",
    "plt.ylim(-1, 1)\n",
    "plt.xlabel(\"Context\", fontsize = \"x-large\")\n",
    "plt.xticks(fontsize = \"x-large\")\n",
    "plt.ylabel(\"Close-bias\", fontsize = \"x-large\")\n",
    "plt.yticks(fontsize = \"x-large\")\n",
    "plt.title(\"All pts_Across context temporal bias\", fontsize = \"x-large\")"
   ]
  },
  {
   "cell_type": "code",
   "execution_count": 347,
   "metadata": {},
   "outputs": [
    {
     "data": {
      "image/png": "[encoded data removed]",
      "text/plain": [
       "<Figure size 432x288 with 1 Axes>"
      ]
     },
     "metadata": {
      "needs_background": "light"
     },
     "output_type": "display_data"
    }
   ],
   "source": [
    "labels = ['Safe', 'Threat', 'S-S','S-T', 'T-S', 'T-T']\n",
    "data = [all_SSwithin_bias, all_TTwithin_bias, all_SSacross_bias, all_STacross_bias, all_TSacross_bias, all_TTacross_bias]\n",
    "colors = ['black', 'purple','green', 'limegreen', 'gold','crimson']\n",
    "sns.stripplot(data = data, s=10, linewidth=1, palette=colors)\n",
    "\n",
    "plt.ylim(-1, 1)\n",
    "plt.xlabel(\"Context\", fontsize = \"x-large\")\n",
    "plt.xticks(np.arange(6), labels, fontsize = \"x-large\")\n",
    "plt.ylabel(\"Close-bias\", fontsize = \"x-large\")\n",
    "plt.yticks(fontsize = \"x-large\")\n",
    "plt.title(\"All pts Within context bias\", fontsize = \"x-large\")\n",
    "plt.show()"
   ]
  },
  {
   "cell_type": "code",
   "execution_count": 349,
   "metadata": {},
   "outputs": [],
   "source": [
    "summarydf = pd.DataFrame({\"Safe_within_bias\":all_SSwithin_bias,\n",
    "                          \"Threat_within_bias\":all_TTwithin_bias,\n",
    "                         \"SS_across_bias\":all_SSacross_bias,\n",
    "                         \"ST_across_bias\":all_STacross_bias,\n",
    "                         \"TS_across_bias\":all_TSacross_bias,\n",
    "                         \"TT_across_bias\":all_TTacross_bias})\n",
    "summarydf.to_csv(pt_dt+\"allsummary2.csv\", index = True, header = True )"
   ]
  },
  {
   "cell_type": "code",
   "execution_count": null,
   "metadata": {},
   "outputs": [],
   "source": []
  }
 ],
 "metadata": {
  "kernelspec": {
   "display_name": "Python 3",
   "language": "python",
   "name": "python3"
  },
  "language_info": {
   "codemirror_mode": {
    "name": "ipython",
    "version": 3
   },
   "file_extension": ".py",
   "mimetype": "text/x-python",
   "name": "python",
   "nbconvert_exporter": "python",
   "pygments_lexer": "ipython3",
   "version": "3.8.5"
  }
 },
 "nbformat": 4,
 "nbformat_minor": 4
}
