{
 "cells": [
  {
   "cell_type": "code",
   "execution_count": 207,
   "metadata": {},
   "outputs": [],
   "source": [
    "## importing all libraries and dependencies\n",
    "import pandas as pd\n",
    "import numpy as np\n",
    "import os\n",
    "from os import listdir\n",
    "import glob\n",
    "from os.path import isfile, join\n",
    "import shutil\n",
    "import PIL\n",
    "from PIL import Image\n",
    "import random\n",
    "import math\n",
    "from heapq import merge\n",
    "from random import *\n",
    "import scipy as sp\n",
    "from scipy import stats\n",
    "import seaborn as sns\n",
    "from matplotlib import pyplot as plt"
   ]
  },
  {
   "cell_type": "code",
   "execution_count": 208,
   "metadata": {},
   "outputs": [],
   "source": [
    "auto_df = pd.read_csv('/Users/ayesh/Desktop/Gradstuff/Temp_mem2022/auto_SCL/EMT_Autonomate_Output2.csv')\n",
    "pt_df = []"
   ]
  },
  {
   "cell_type": "code",
   "execution_count": 209,
   "metadata": {},
   "outputs": [],
   "source": [
    "r_col = []\n",
    "r_num = auto_df.Run_file\n",
    "pt = auto_df.Subject\n",
    "for index, row in auto_df.iterrows():\n",
    "    runs = r_num[index]\n",
    "    run_num = runs[-1]\n",
    "    r_col.append(run_num)"
   ]
  },
  {
   "cell_type": "code",
   "execution_count": 780,
   "metadata": {},
   "outputs": [
    {
     "ename": "IndexError",
     "evalue": "list index out of range",
     "output_type": "error",
     "traceback": [
      "\u001b[1;31m---------------------------------------------------------------------------\u001b[0m",
      "\u001b[1;31mIndexError\u001b[0m                                Traceback (most recent call last)",
      "\u001b[1;32m<ipython-input-780-f6790c63205b>\u001b[0m in \u001b[0;36m<module>\u001b[1;34m\u001b[0m\n\u001b[0;32m      1\u001b[0m \u001b[0mauto_df\u001b[0m\u001b[1;33m[\u001b[0m\u001b[1;34m\"run_num\"\u001b[0m\u001b[1;33m]\u001b[0m \u001b[1;33m=\u001b[0m \u001b[0mr_col\u001b[0m\u001b[1;33m\u001b[0m\u001b[1;33m\u001b[0m\u001b[0m\n\u001b[0;32m      2\u001b[0m \u001b[0mpts_list\u001b[0m \u001b[1;33m=\u001b[0m \u001b[0mlist\u001b[0m\u001b[1;33m(\u001b[0m\u001b[0mpt\u001b[0m\u001b[1;33m.\u001b[0m\u001b[0munique\u001b[0m\u001b[1;33m(\u001b[0m\u001b[1;33m)\u001b[0m\u001b[1;33m)\u001b[0m\u001b[1;33m\u001b[0m\u001b[1;33m\u001b[0m\u001b[0m\n\u001b[1;32m----> 3\u001b[1;33m \u001b[0mpt_num\u001b[0m \u001b[1;33m=\u001b[0m \u001b[0mstr\u001b[0m\u001b[1;33m(\u001b[0m\u001b[0mpts_list\u001b[0m\u001b[1;33m[\u001b[0m\u001b[1;36m34\u001b[0m\u001b[1;33m]\u001b[0m\u001b[1;33m)\u001b[0m\u001b[1;33m\u001b[0m\u001b[1;33m\u001b[0m\u001b[0m\n\u001b[0m\u001b[0;32m      4\u001b[0m \u001b[0mpt_num\u001b[0m\u001b[1;33m\u001b[0m\u001b[1;33m\u001b[0m\u001b[0m\n",
      "\u001b[1;31mIndexError\u001b[0m: list index out of range"
     ]
    }
   ],
   "source": [
    "auto_df[\"run_num\"] = r_col\n",
    "pts_list = list(pt.unique())\n",
    "pt_num = str(pts_list[34])\n",
    "pt_num"
   ]
  },
  {
   "cell_type": "code",
   "execution_count": null,
   "metadata": {},
   "outputs": [],
   "source": [
    "pt_scl = auto_df.loc[auto_df[\"Subject\"] == int(pt_num)]\n",
    "\n",
    "cntxt_ls = pd.DataFrame(range(19))\n",
    "cntxt_num = np.repeat(cntxt_ls.values, 6, axis=0)\n",
    "\n",
    "runs_ls = pd.DataFrame(range(1,6,1))\n",
    "r_num = np.repeat(runs_ls.values, 19, axis = 0)\n",
    "\n",
    "c_multx = list(cntxt_num) * 5\n",
    "pt_scl[\"cntxt_num\"] = c_multx\n",
    "\n",
    "pt_cntxt = []\n",
    "for index, row in pt_scl.iterrows():\n",
    "    p = str(pt_scl.cntxt_num[index])\n",
    "    j = p.replace('[', '')\n",
    "    q = j.replace(']', '')\n",
    "    pt_cntxt.append(q)\n",
    "    \n",
    "pt_scl[\"cntxt_num\"] = pt_cntxt\n",
    "pt_scl"
   ]
  },
  {
   "cell_type": "code",
   "execution_count": null,
   "metadata": {},
   "outputs": [],
   "source": [
    "last_hlf = pt_scl.loc[pt_scl[\"Half_Context\"]==2]\n",
    "#2.put this line of code categorizing by context #agg = tmp2.groupby('stims')['GSR'].agg(['count', 'mean']).reset_index()\n",
    "r1 = last_hlf.loc[last_hlf[\"run_num\"]=='1']\n",
    "r2 = last_hlf.loc[last_hlf[\"run_num\"]=='2']\n",
    "r3 = last_hlf.loc[last_hlf[\"run_num\"]=='3']\n",
    "r4 = last_hlf.loc[last_hlf[\"run_num\"]=='4']\n",
    "r5 = last_hlf.loc[last_hlf[\"run_num\"]=='5']\n",
    "\n",
    "ragg1 = r1.groupby('cntxt_num', sort = False)['t2pValue'].agg(['count', 'mean']).round(4).reset_index()\n",
    "ragg2 = r2.groupby('cntxt_num', sort = False)['t2pValue'].agg(['count', 'mean']).round(4).reset_index()\n",
    "ragg3 = r3.groupby('cntxt_num', sort = False)['t2pValue'].agg(['count', 'mean']).round(4).reset_index()\n",
    "ragg4 = r4.groupby('cntxt_num', sort = False)['t2pValue'].agg(['count', 'mean']).round(4).reset_index()\n",
    "ragg5 = r5.groupby('cntxt_num', sort = False)['t2pValue'].agg(['count', 'mean']).round(4).reset_index()\n",
    "\n",
    "cnsl_pt = pd.concat([ragg1, ragg2, ragg3, ragg4, ragg5])\n",
    "cnsl_pt[\"pt\"] = pt_num\n",
    "cnsl_pt[\"r_num\"] = r_num"
   ]
  },
  {
   "cell_type": "code",
   "execution_count": null,
   "metadata": {},
   "outputs": [],
   "source": [
    "cnsl_pt"
   ]
  },
  {
   "cell_type": "markdown",
   "metadata": {},
   "source": [
    "## match with encoding context"
   ]
  },
  {
   "cell_type": "code",
   "execution_count": null,
   "metadata": {},
   "outputs": [],
   "source": [
    "encod_dirs = '/Users/ayesh/Desktop/Gradstuff/Temp_mem2022/summary_data/new_batch/combined/'\n",
    "encod_ext = [f for f in listdir(encod_dirs)]\n",
    "for i in encod_ext:\n",
    "    if i[-2:]== pt_num:\n",
    "        pt_encod = encod_dirs + i"
   ]
  },
  {
   "cell_type": "code",
   "execution_count": null,
   "metadata": {},
   "outputs": [],
   "source": [
    "encoding_files = []\n",
    "pt_encod_files = [f for f in listdir(pt_encod)]\n",
    "        \n",
    "for a in pt_encod_files:\n",
    "    if a[-4:] == '.csv' and 'encoding' in a:\n",
    "        encoding_files.append(pt_encod + '/' + a)"
   ]
  },
  {
   "cell_type": "code",
   "execution_count": null,
   "metadata": {},
   "outputs": [],
   "source": [
    "encod_dirs = '/Users/ayesh/Desktop/Gradstuff/Temp_mem2022/summary_data/new_batch/combined/'\n",
    "encod_ext = [f for f in listdir(encod_dirs)]\n",
    "for i in encod_ext:\n",
    "    if i[-2:]== pt_num:\n",
    "        pt_encod = encod_dirs + i"
   ]
  },
  {
   "cell_type": "code",
   "execution_count": null,
   "metadata": {},
   "outputs": [],
   "source": [
    "enc_ls = []\n",
    "for file in encoding_files:\n",
    "    #file_num = file [-29]\n",
    "    #if (file_num == run_num):\n",
    "    enc_file = pd.read_csv(file)\n",
    "    enc_df = enc_file[[\"context_num\", \"context_type\", \"context_shock\", \"cntxt_trialnum\"]]\n",
    "    nona= enc_df.dropna()\n",
    "    cln = nona.iloc[::6, :]\n",
    "    butt = cln.reset_index()\n",
    "    enc_ls.append(butt)\n",
    "enc_pt = pd.concat(enc_ls)"
   ]
  },
  {
   "cell_type": "code",
   "execution_count": null,
   "metadata": {},
   "outputs": [],
   "source": [
    "file"
   ]
  },
  {
   "cell_type": "code",
   "execution_count": null,
   "metadata": {},
   "outputs": [],
   "source": [
    "enc_pt"
   ]
  },
  {
   "cell_type": "markdown",
   "metadata": {},
   "source": [
    "## Merge!"
   ]
  },
  {
   "cell_type": "code",
   "execution_count": null,
   "metadata": {},
   "outputs": [],
   "source": [
    "pt_mrgd = pd.concat([cnsl_pt, enc_pt], axis = 1)\n",
    "pt_df.append(pt_mrgd)"
   ]
  },
  {
   "cell_type": "code",
   "execution_count": null,
   "metadata": {},
   "outputs": [],
   "source": [
    "all_pts = pd.concat(pt_df)\n",
    "all_pts.to_csv('/Users/ayesh/Desktop/Gradstuff/Temp_mem2022/auto_SCL/auto_allpts2.csv')"
   ]
  },
  {
   "cell_type": "markdown",
   "metadata": {},
   "source": [
    "## Summarize"
   ]
  },
  {
   "cell_type": "code",
   "execution_count": null,
   "metadata": {},
   "outputs": [],
   "source": [
    "sum_ptdf = pd.read_csv('/Users/ayesh/Desktop/Gradstuff/Temp_mem2022/auto_SCL/auto_allpts2.csv')\n",
    "# throw out shock contexts entirely\n",
    "mrgd_clnd = sum_ptdf[sum_ptdf.context_shock != 'shock-cntxt']\n",
    "mrgd_clnd.to_csv(\"tst_mrgd_clnd.csv\")"
   ]
  },
  {
   "cell_type": "code",
   "execution_count": null,
   "metadata": {},
   "outputs": [],
   "source": [
    "# slices mean and std by pt and by run\n",
    "meu = mrgd_clnd.groupby(['pt', 'r_num'])['mean'].mean()\n",
    "st = mrgd_clnd.groupby(['pt', 'r_num'])['mean'].std()\n",
    "meu,st"
   ]
  },
  {
   "cell_type": "code",
   "execution_count": null,
   "metadata": {},
   "outputs": [],
   "source": [
    "mult_meu = pd.DataFrame(np.repeat(meu.values, 18, axis = 0))\n",
    "mult_st = pd.DataFrame(np.repeat(st.values, 18, axis = 0))\n",
    "mnd = pd.concat([mult_meu, mult_st], axis = 1)\n",
    "mnd.columns = [\"Mean\",\"STD\"]\n",
    "mnd.to_csv(\"tst_mnd2.csv\")"
   ]
  },
  {
   "cell_type": "code",
   "execution_count": null,
   "metadata": {},
   "outputs": [],
   "source": [
    "mrgd_clnd.head()\n",
    "len(mrgd_clnd.pt.unique())"
   ]
  },
  {
   "cell_type": "markdown",
   "metadata": {},
   "source": [
    "### manually merge mrgd_clnd and mean/std csvs!"
   ]
  },
  {
   "cell_type": "code",
   "execution_count": null,
   "metadata": {},
   "outputs": [],
   "source": [
    "## the new csv that comes out:\n",
    "mrgd = pd.read_csv('/Users/ayesh/Desktop/Gradstuff/Temp_mem2022/auto_SCL/mrgd.csv')\n",
    "fc = mrgd.groupby(['pt', 'r_num','context_type'])['zs'].mean().unstack()\n",
    "fc.to_csv(\"moment_oftruth.csv\")"
   ]
  },
  {
   "cell_type": "code",
   "execution_count": null,
   "metadata": {},
   "outputs": [],
   "source": [
    "rd = pd.read_csv('/Users/ayesh/Desktop/Gradstuff/Temp_mem2022/auto_SCL/moment_oftruth.csv')\n",
    "rn1 = rd.loc[(rd['r_num'] == 1)]\n",
    "rn2 = rd.loc[(rd['r_num'] == 2)]\n",
    "rn3 = rd.loc[(rd['r_num'] == 3)]\n",
    "rn4 = rd.loc[(rd['r_num'] == 4)]\n",
    "rn5 = rd.loc[(rd['r_num'] == 5)]\n",
    "\n",
    "rn1.to_csv(\"rn1.csv\")\n",
    "rn2.to_csv(\"rn2.csv\")\n",
    "rn3.to_csv(\"rn3.csv\")\n",
    "rn4.to_csv(\"rn4.csv\")\n",
    "rn5.to_csv(\"rn5.csv\")"
   ]
  }
 ],
 "metadata": {
  "kernelspec": {
   "display_name": "Python 3",
   "language": "python",
   "name": "python3"
  },
  "language_info": {
   "codemirror_mode": {
    "name": "ipython",
    "version": 3
   },
   "file_extension": ".py",
   "mimetype": "text/x-python",
   "name": "python",
   "nbconvert_exporter": "python",
   "pygments_lexer": "ipython3",
   "version": "3.8.5"
  }
 },
 "nbformat": 4,
 "nbformat_minor": 4
}
