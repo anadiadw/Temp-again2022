{
 "cells": [
  {
   "cell_type": "markdown",
   "metadata": {},
   "source": [
    "# To run ONCE during session"
   ]
  },
  {
   "cell_type": "code",
   "execution_count": 1,
   "metadata": {},
   "outputs": [],
   "source": [
    "## importing all libraries and dependencies\n",
    "import pandas as pd\n",
    "import numpy as np\n",
    "import os\n",
    "from os import listdir\n",
    "import glob\n",
    "from os.path import isfile, join\n",
    "import shutil\n",
    "import PIL\n",
    "from PIL import Image\n",
    "import random\n",
    "import math\n",
    "from heapq import merge\n",
    "from random import *\n",
    "import scipy as sp\n",
    "from scipy import stats\n",
    "import seaborn as sns\n",
    "from matplotlib import pyplot as plt"
   ]
  },
  {
   "cell_type": "code",
   "execution_count": 2,
   "metadata": {},
   "outputs": [],
   "source": [
    "all_SSwithin_bias = []\n",
    "all_TTwithin_bias = []\n",
    "\n",
    "all_SSacross_bias = []\n",
    "all_STacross_bias = []\n",
    "all_TSacross_bias = []\n",
    "all_TTacross_bias = []"
   ]
  },
  {
   "cell_type": "code",
   "execution_count": 3,
   "metadata": {},
   "outputs": [],
   "source": [
    "data_dir = '/Users/ayesh/Desktop/Gradstuff/Temp_mem2022/summary_data/new_batch/Non_SONA_data/'\n",
    "dir_ext = [f for f in listdir(data_dir)]\n",
    "pt_dir_lst = []\n",
    "for i in dir_ext:\n",
    "    pt_dir = data_dir + i\n",
    "    pt_dir_lst.append(pt_dir)"
   ]
  },
  {
   "cell_type": "markdown",
   "metadata": {},
   "source": [
    "## Edit for each participant"
   ]
  },
  {
   "cell_type": "code",
   "execution_count": 4,
   "metadata": {},
   "outputs": [
    {
     "data": {
      "text/plain": [
       "'/Users/ayesh/Desktop/Gradstuff/Temp_mem2022/summary_data/new_batch/Non_SONA_data/emt_56'"
      ]
     },
     "execution_count": 4,
     "metadata": {},
     "output_type": "execute_result"
    }
   ],
   "source": [
    "pt_dir = pt_dir_lst[10]\n",
    "pt_dir"
   ]
  },
  {
   "cell_type": "code",
   "execution_count": 5,
   "metadata": {},
   "outputs": [],
   "source": [
    "encoding_files = []\n",
    "tempdist_files = []\n",
    "srcmem_files = []\n",
    "for pt in pt_dir:\n",
    "    pt_files = [f for f in listdir(pt_dir) if isfile(join(pt_dir, f))]\n",
    "\n",
    "for a in pt_files:\n",
    "    if a[-4:] == '.csv' and 'encoding' in a:\n",
    "        encoding_files.append(pt_dir + '/' + a)\n",
    "    if a[-4:] == '.csv' and 'temp_dist' in a:\n",
    "        tempdist_files.append(pt_dir + '/' + a)\n",
    "    if a[-4:] == '.csv' and 'src_mem' in a:\n",
    "        srcmem_files.append(pt_dir + '/' + a)"
   ]
  },
  {
   "cell_type": "code",
   "execution_count": 6,
   "metadata": {},
   "outputs": [
    {
     "data": {
      "text/plain": [
       "48"
      ]
     },
     "execution_count": 6,
     "metadata": {},
     "output_type": "execute_result"
    }
   ],
   "source": [
    "#1 add in column for pt number and run number\n",
    "#2 concat all the run csvs for each test\n",
    "#3 drop NAs\n",
    "len(pt_files)"
   ]
  },
  {
   "cell_type": "code",
   "execution_count": 7,
   "metadata": {},
   "outputs": [],
   "source": [
    "tempdf = []\n",
    "rn1 = tempdist_files[0]\n",
    "dt1 = pd.DataFrame(pd.read_csv(rn1, header = 0))\n",
    "dt1.columns = dt1.columns.str.replace(\".\", \"_\")\n",
    "dt1['run_num'] = '1'\n",
    "pt_num = dt1.participant[2]\n",
    "type(dt1)\n",
    "tempdf.append(dt1)\n",
    "for b in tempdist_files[1:]:\n",
    "    dt = pd.DataFrame(pd.read_csv(b, header = 0))\n",
    "    dt.columns = dt.columns.str.replace(\".\", \"_\")\n",
    "    dt['run_num'] = b[-32]\n",
    "    tempdf.append(dt)\n",
    "allTD_df = pd.concat(tempdf)\n",
    "allTD_df = allTD_df.dropna(subset=['context_num', 'contexts_pics', 'objects_pics'])\n",
    "pt_dt = 'C:/Users/ayesh/Desktop/Gradstuff/Temp_mem2022/summary_data/'\n",
    "os.makedirs(pt_dt, exist_ok=True)  \n",
    "allTD_df.to_csv(pt_dt+\"%s_ptsummary.csv\"%pt_num, index = True, header = True )"
   ]
  },
  {
   "cell_type": "code",
   "execution_count": 8,
   "metadata": {},
   "outputs": [
    {
     "data": {
      "text/html": [
       "<div>\n",
       "<style scoped>\n",
       "    .dataframe tbody tr th:only-of-type {\n",
       "        vertical-align: middle;\n",
       "    }\n",
       "\n",
       "    .dataframe tbody tr th {\n",
       "        vertical-align: top;\n",
       "    }\n",
       "\n",
       "    .dataframe thead th {\n",
       "        text-align: right;\n",
       "    }\n",
       "</style>\n",
       "<table border=\"1\" class=\"dataframe\">\n",
       "  <thead>\n",
       "    <tr style=\"text-align: right;\">\n",
       "      <th></th>\n",
       "      <th>context_num</th>\n",
       "      <th>context_type</th>\n",
       "      <th>context_shock</th>\n",
       "      <th>cntxt_trialnum</th>\n",
       "      <th>shock_object</th>\n",
       "      <th>us</th>\n",
       "      <th>shock_time</th>\n",
       "      <th>contexts_pics</th>\n",
       "      <th>condition</th>\n",
       "      <th>objects_pics</th>\n",
       "      <th>...</th>\n",
       "      <th>participant</th>\n",
       "      <th>date</th>\n",
       "      <th>expName</th>\n",
       "      <th>psychopyVersion</th>\n",
       "      <th>frameRate</th>\n",
       "      <th>Unnamed: 55</th>\n",
       "      <th>run_num</th>\n",
       "      <th>Unnamed: 51</th>\n",
       "      <th>text_4_stopped</th>\n",
       "      <th>Unnamed: 52</th>\n",
       "    </tr>\n",
       "  </thead>\n",
       "  <tbody>\n",
       "    <tr>\n",
       "      <th>3</th>\n",
       "      <td>4.0</td>\n",
       "      <td>SAFE</td>\n",
       "      <td>None</td>\n",
       "      <td>5.0</td>\n",
       "      <td>None</td>\n",
       "      <td>0.0</td>\n",
       "      <td>None</td>\n",
       "      <td>Scenes_selected/scene_088.jpg</td>\n",
       "      <td>across_safe1</td>\n",
       "      <td>new_obs/1_102.jpg</td>\n",
       "      <td>...</td>\n",
       "      <td>56.0</td>\n",
       "      <td>2023-05-30_16h04.35.561</td>\n",
       "      <td>temp_dist.py</td>\n",
       "      <td>2022.2.4</td>\n",
       "      <td>60.008665</td>\n",
       "      <td>NaN</td>\n",
       "      <td>1</td>\n",
       "      <td>NaN</td>\n",
       "      <td>NaN</td>\n",
       "      <td>NaN</td>\n",
       "    </tr>\n",
       "    <tr>\n",
       "      <th>4</th>\n",
       "      <td>5.0</td>\n",
       "      <td>THREAT</td>\n",
       "      <td>None</td>\n",
       "      <td>2.0</td>\n",
       "      <td>None</td>\n",
       "      <td>0.0</td>\n",
       "      <td>None</td>\n",
       "      <td>Scenes_selected/scene_010.jpg</td>\n",
       "      <td>within_threat1</td>\n",
       "      <td>new_obs/1_452.jpg</td>\n",
       "      <td>...</td>\n",
       "      <td>56.0</td>\n",
       "      <td>2023-05-30_16h04.35.561</td>\n",
       "      <td>temp_dist.py</td>\n",
       "      <td>2022.2.4</td>\n",
       "      <td>60.008665</td>\n",
       "      <td>NaN</td>\n",
       "      <td>1</td>\n",
       "      <td>NaN</td>\n",
       "      <td>NaN</td>\n",
       "      <td>NaN</td>\n",
       "    </tr>\n",
       "    <tr>\n",
       "      <th>5</th>\n",
       "      <td>11.0</td>\n",
       "      <td>THREAT</td>\n",
       "      <td>None</td>\n",
       "      <td>5.0</td>\n",
       "      <td>None</td>\n",
       "      <td>0.0</td>\n",
       "      <td>None</td>\n",
       "      <td>Scenes_selected/scene_018.jpeg</td>\n",
       "      <td>across_threat1</td>\n",
       "      <td>new_obs/object_530.jpg</td>\n",
       "      <td>...</td>\n",
       "      <td>56.0</td>\n",
       "      <td>2023-05-30_16h04.35.561</td>\n",
       "      <td>temp_dist.py</td>\n",
       "      <td>2022.2.4</td>\n",
       "      <td>60.008665</td>\n",
       "      <td>NaN</td>\n",
       "      <td>1</td>\n",
       "      <td>NaN</td>\n",
       "      <td>NaN</td>\n",
       "      <td>NaN</td>\n",
       "    </tr>\n",
       "    <tr>\n",
       "      <th>6</th>\n",
       "      <td>15.0</td>\n",
       "      <td>SAFE</td>\n",
       "      <td>None</td>\n",
       "      <td>2.0</td>\n",
       "      <td>None</td>\n",
       "      <td>0.0</td>\n",
       "      <td>None</td>\n",
       "      <td>Scenes_selected/scene_082.jpg</td>\n",
       "      <td>within_safe1</td>\n",
       "      <td>new_obs/1_448.jpg</td>\n",
       "      <td>...</td>\n",
       "      <td>56.0</td>\n",
       "      <td>2023-05-30_16h04.35.561</td>\n",
       "      <td>temp_dist.py</td>\n",
       "      <td>2022.2.4</td>\n",
       "      <td>60.008665</td>\n",
       "      <td>NaN</td>\n",
       "      <td>1</td>\n",
       "      <td>NaN</td>\n",
       "      <td>NaN</td>\n",
       "      <td>NaN</td>\n",
       "    </tr>\n",
       "    <tr>\n",
       "      <th>7</th>\n",
       "      <td>14.0</td>\n",
       "      <td>SAFE</td>\n",
       "      <td>None</td>\n",
       "      <td>5.0</td>\n",
       "      <td>None</td>\n",
       "      <td>0.0</td>\n",
       "      <td>None</td>\n",
       "      <td>Scenes_selected/scene_048.jpg</td>\n",
       "      <td>across_safe1</td>\n",
       "      <td>new_obs/object_198.jpg</td>\n",
       "      <td>...</td>\n",
       "      <td>56.0</td>\n",
       "      <td>2023-05-30_16h04.35.561</td>\n",
       "      <td>temp_dist.py</td>\n",
       "      <td>2022.2.4</td>\n",
       "      <td>60.008665</td>\n",
       "      <td>NaN</td>\n",
       "      <td>1</td>\n",
       "      <td>NaN</td>\n",
       "      <td>NaN</td>\n",
       "      <td>NaN</td>\n",
       "    </tr>\n",
       "    <tr>\n",
       "      <th>...</th>\n",
       "      <td>...</td>\n",
       "      <td>...</td>\n",
       "      <td>...</td>\n",
       "      <td>...</td>\n",
       "      <td>...</td>\n",
       "      <td>...</td>\n",
       "      <td>...</td>\n",
       "      <td>...</td>\n",
       "      <td>...</td>\n",
       "      <td>...</td>\n",
       "      <td>...</td>\n",
       "      <td>...</td>\n",
       "      <td>...</td>\n",
       "      <td>...</td>\n",
       "      <td>...</td>\n",
       "      <td>...</td>\n",
       "      <td>...</td>\n",
       "      <td>...</td>\n",
       "      <td>...</td>\n",
       "      <td>...</td>\n",
       "      <td>...</td>\n",
       "    </tr>\n",
       "    <tr>\n",
       "      <th>32</th>\n",
       "      <td>8.0</td>\n",
       "      <td>SAFE</td>\n",
       "      <td>None</td>\n",
       "      <td>5.0</td>\n",
       "      <td>None</td>\n",
       "      <td>0.0</td>\n",
       "      <td>None</td>\n",
       "      <td>Scenes_selected/scene_022.jpg</td>\n",
       "      <td>across_safe1</td>\n",
       "      <td>new_obs/object_432.jpg</td>\n",
       "      <td>...</td>\n",
       "      <td>56.0</td>\n",
       "      <td>2023-05-30_17h27.37.026</td>\n",
       "      <td>temp_dist5.py</td>\n",
       "      <td>2022.2.4</td>\n",
       "      <td>60.157432</td>\n",
       "      <td>NaN</td>\n",
       "      <td>5</td>\n",
       "      <td>NaN</td>\n",
       "      <td>NaN</td>\n",
       "      <td>NaN</td>\n",
       "    </tr>\n",
       "    <tr>\n",
       "      <th>33</th>\n",
       "      <td>3.0</td>\n",
       "      <td>THREAT</td>\n",
       "      <td>None</td>\n",
       "      <td>5.0</td>\n",
       "      <td>None</td>\n",
       "      <td>0.0</td>\n",
       "      <td>None</td>\n",
       "      <td>Scenes_selected/scene_005.jpg</td>\n",
       "      <td>across_threat1</td>\n",
       "      <td>new_obs/1_79.jpg</td>\n",
       "      <td>...</td>\n",
       "      <td>56.0</td>\n",
       "      <td>2023-05-30_17h27.37.026</td>\n",
       "      <td>temp_dist5.py</td>\n",
       "      <td>2022.2.4</td>\n",
       "      <td>60.157432</td>\n",
       "      <td>NaN</td>\n",
       "      <td>5</td>\n",
       "      <td>NaN</td>\n",
       "      <td>NaN</td>\n",
       "      <td>NaN</td>\n",
       "    </tr>\n",
       "    <tr>\n",
       "      <th>34</th>\n",
       "      <td>6.0</td>\n",
       "      <td>SAFE</td>\n",
       "      <td>None</td>\n",
       "      <td>5.0</td>\n",
       "      <td>None</td>\n",
       "      <td>0.0</td>\n",
       "      <td>None</td>\n",
       "      <td>Scenes_selected/scene_036.jpg</td>\n",
       "      <td>across_safe1</td>\n",
       "      <td>new_obs/1_41.jpg</td>\n",
       "      <td>...</td>\n",
       "      <td>56.0</td>\n",
       "      <td>2023-05-30_17h27.37.026</td>\n",
       "      <td>temp_dist5.py</td>\n",
       "      <td>2022.2.4</td>\n",
       "      <td>60.157432</td>\n",
       "      <td>NaN</td>\n",
       "      <td>5</td>\n",
       "      <td>NaN</td>\n",
       "      <td>NaN</td>\n",
       "      <td>NaN</td>\n",
       "    </tr>\n",
       "    <tr>\n",
       "      <th>35</th>\n",
       "      <td>14.0</td>\n",
       "      <td>THREAT</td>\n",
       "      <td>None</td>\n",
       "      <td>2.0</td>\n",
       "      <td>None</td>\n",
       "      <td>0.0</td>\n",
       "      <td>None</td>\n",
       "      <td>Scenes_selected/scene_075.jpg</td>\n",
       "      <td>within_threat1</td>\n",
       "      <td>new_obs/1_1.jpg</td>\n",
       "      <td>...</td>\n",
       "      <td>56.0</td>\n",
       "      <td>2023-05-30_17h27.37.026</td>\n",
       "      <td>temp_dist5.py</td>\n",
       "      <td>2022.2.4</td>\n",
       "      <td>60.157432</td>\n",
       "      <td>NaN</td>\n",
       "      <td>5</td>\n",
       "      <td>NaN</td>\n",
       "      <td>NaN</td>\n",
       "      <td>NaN</td>\n",
       "    </tr>\n",
       "    <tr>\n",
       "      <th>36</th>\n",
       "      <td>7.0</td>\n",
       "      <td>SAFE</td>\n",
       "      <td>None</td>\n",
       "      <td>5.0</td>\n",
       "      <td>None</td>\n",
       "      <td>0.0</td>\n",
       "      <td>None</td>\n",
       "      <td>Scenes_selected/scene_024.jpg</td>\n",
       "      <td>across_safe1</td>\n",
       "      <td>new_obs/object_486.jpg</td>\n",
       "      <td>...</td>\n",
       "      <td>56.0</td>\n",
       "      <td>2023-05-30_17h27.37.026</td>\n",
       "      <td>temp_dist5.py</td>\n",
       "      <td>2022.2.4</td>\n",
       "      <td>60.157432</td>\n",
       "      <td>NaN</td>\n",
       "      <td>5</td>\n",
       "      <td>NaN</td>\n",
       "      <td>NaN</td>\n",
       "      <td>NaN</td>\n",
       "    </tr>\n",
       "  </tbody>\n",
       "</table>\n",
       "<p>175 rows × 60 columns</p>\n",
       "</div>"
      ],
      "text/plain": [
       "    context_num context_type context_shock  cntxt_trialnum shock_object   us  \\\n",
       "3           4.0         SAFE          None             5.0         None  0.0   \n",
       "4           5.0       THREAT          None             2.0         None  0.0   \n",
       "5          11.0       THREAT          None             5.0         None  0.0   \n",
       "6          15.0         SAFE          None             2.0         None  0.0   \n",
       "7          14.0         SAFE          None             5.0         None  0.0   \n",
       "..          ...          ...           ...             ...          ...  ...   \n",
       "32          8.0         SAFE          None             5.0         None  0.0   \n",
       "33          3.0       THREAT          None             5.0         None  0.0   \n",
       "34          6.0         SAFE          None             5.0         None  0.0   \n",
       "35         14.0       THREAT          None             2.0         None  0.0   \n",
       "36          7.0         SAFE          None             5.0         None  0.0   \n",
       "\n",
       "   shock_time                   contexts_pics       condition  \\\n",
       "3        None   Scenes_selected/scene_088.jpg    across_safe1   \n",
       "4        None   Scenes_selected/scene_010.jpg  within_threat1   \n",
       "5        None  Scenes_selected/scene_018.jpeg  across_threat1   \n",
       "6        None   Scenes_selected/scene_082.jpg    within_safe1   \n",
       "7        None   Scenes_selected/scene_048.jpg    across_safe1   \n",
       "..        ...                             ...             ...   \n",
       "32       None   Scenes_selected/scene_022.jpg    across_safe1   \n",
       "33       None   Scenes_selected/scene_005.jpg  across_threat1   \n",
       "34       None   Scenes_selected/scene_036.jpg    across_safe1   \n",
       "35       None   Scenes_selected/scene_075.jpg  within_threat1   \n",
       "36       None   Scenes_selected/scene_024.jpg    across_safe1   \n",
       "\n",
       "              objects_pics  ...  participant                     date  \\\n",
       "3        new_obs/1_102.jpg  ...         56.0  2023-05-30_16h04.35.561   \n",
       "4        new_obs/1_452.jpg  ...         56.0  2023-05-30_16h04.35.561   \n",
       "5   new_obs/object_530.jpg  ...         56.0  2023-05-30_16h04.35.561   \n",
       "6        new_obs/1_448.jpg  ...         56.0  2023-05-30_16h04.35.561   \n",
       "7   new_obs/object_198.jpg  ...         56.0  2023-05-30_16h04.35.561   \n",
       "..                     ...  ...          ...                      ...   \n",
       "32  new_obs/object_432.jpg  ...         56.0  2023-05-30_17h27.37.026   \n",
       "33        new_obs/1_79.jpg  ...         56.0  2023-05-30_17h27.37.026   \n",
       "34        new_obs/1_41.jpg  ...         56.0  2023-05-30_17h27.37.026   \n",
       "35         new_obs/1_1.jpg  ...         56.0  2023-05-30_17h27.37.026   \n",
       "36  new_obs/object_486.jpg  ...         56.0  2023-05-30_17h27.37.026   \n",
       "\n",
       "          expName  psychopyVersion  frameRate  Unnamed: 55 run_num  \\\n",
       "3    temp_dist.py         2022.2.4  60.008665          NaN       1   \n",
       "4    temp_dist.py         2022.2.4  60.008665          NaN       1   \n",
       "5    temp_dist.py         2022.2.4  60.008665          NaN       1   \n",
       "6    temp_dist.py         2022.2.4  60.008665          NaN       1   \n",
       "7    temp_dist.py         2022.2.4  60.008665          NaN       1   \n",
       "..            ...              ...        ...          ...     ...   \n",
       "32  temp_dist5.py         2022.2.4  60.157432          NaN       5   \n",
       "33  temp_dist5.py         2022.2.4  60.157432          NaN       5   \n",
       "34  temp_dist5.py         2022.2.4  60.157432          NaN       5   \n",
       "35  temp_dist5.py         2022.2.4  60.157432          NaN       5   \n",
       "36  temp_dist5.py         2022.2.4  60.157432          NaN       5   \n",
       "\n",
       "   Unnamed: 51 text_4_stopped Unnamed: 52  \n",
       "3          NaN            NaN         NaN  \n",
       "4          NaN            NaN         NaN  \n",
       "5          NaN            NaN         NaN  \n",
       "6          NaN            NaN         NaN  \n",
       "7          NaN            NaN         NaN  \n",
       "..         ...            ...         ...  \n",
       "32         NaN            NaN         NaN  \n",
       "33         NaN            NaN         NaN  \n",
       "34         NaN            NaN         NaN  \n",
       "35         NaN            NaN         NaN  \n",
       "36         NaN            NaN         NaN  \n",
       "\n",
       "[175 rows x 60 columns]"
      ]
     },
     "execution_count": 8,
     "metadata": {},
     "output_type": "execute_result"
    }
   ],
   "source": [
    "allTD_df"
   ]
  },
  {
   "cell_type": "code",
   "execution_count": 9,
   "metadata": {},
   "outputs": [],
   "source": [
    "very_close = []\n",
    "close = []\n",
    "far = []\n",
    "very_far = []\n",
    "\n",
    "dt = pd.read_csv(pt_dt+\"%s_ptsummary.csv\"%pt_num)"
   ]
  },
  {
   "cell_type": "code",
   "execution_count": 10,
   "metadata": {},
   "outputs": [
    {
     "data": {
      "text/plain": [
       "0      3.0\n",
       "1      2.0\n",
       "2      4.0\n",
       "3      3.0\n",
       "4      2.0\n",
       "      ... \n",
       "170    4.0\n",
       "171    3.0\n",
       "172    3.0\n",
       "173    2.0\n",
       "174    4.0\n",
       "Name: key_resp_keys, Length: 175, dtype: float64"
      ]
     },
     "execution_count": 10,
     "metadata": {},
     "output_type": "execute_result"
    }
   ],
   "source": [
    "dt.key_resp_keys"
   ]
  },
  {
   "cell_type": "code",
   "execution_count": 11,
   "metadata": {},
   "outputs": [],
   "source": [
    "shrt_df = pd.DataFrame({ \n",
    "                        'contxt1': dt.context_type,\n",
    "                        'contxt2': dt.context_type2,\n",
    "                        'context_shock':dt.context_shock,\n",
    "                        'context_shock2':dt.context_shock2,\n",
    "                        'cond1': dt.condition,\n",
    "                        'cond2': dt.condition2,\n",
    "                        'resp': dt.key_resp_keys,\n",
    "                        'rt': dt.key_resp_rt})"
   ]
  },
  {
   "cell_type": "code",
   "execution_count": 12,
   "metadata": {},
   "outputs": [],
   "source": [
    "within_TT = []\n",
    "within_SS = []\n",
    "\n",
    "across_TT = []\n",
    "across_TS = []\n",
    "across_ST = []\n",
    "across_SS = []\n",
    "\n",
    "rt_within_TT = []\n",
    "rt_within_SS = []\n",
    "\n",
    "rt_across_TT = []\n",
    "rt_across_TS = []\n",
    "rt_across_ST = []\n",
    "rt_across_SS = []\n",
    "\n",
    "for index, row in shrt_df.iterrows():\n",
    "    resp_dt = shrt_df.resp\n",
    "    resp_rt = shrt_df.rt\n",
    "    if shrt_df.cond1[index] == 'within_threat1' and shrt_df.cond2[index] == 'within_threat2':\n",
    "        within_TT.append(resp_dt[index])\n",
    "        rt_within_TT.append(resp_rt[index])\n",
    "        \n",
    "    if shrt_df.cond1[index] == 'within_safe1' and shrt_df.cond2[index] == 'within_safe2':\n",
    "        within_SS.append(resp_dt[index])\n",
    "        rt_within_SS.append(resp_rt[index])\n",
    "        \n",
    "for index, row in shrt_df.iterrows():\n",
    "    resp_dt = shrt_df.resp\n",
    "    resp_rt = shrt_df.rt\n",
    "    if shrt_df.cond1[index] == 'across_threat1' and shrt_df.cond2[index] == 'across_threat2' and shrt_df.context_shock[index] != 'prior' and shrt_df.context_shock2[index] != 'post':\n",
    "        across_TT.append(resp_dt[index])\n",
    "        rt_across_TT.append(resp_rt[index])\n",
    "        \n",
    "    if shrt_df.cond1[index] == 'across_threat1' and shrt_df.cond2[index] == 'across_safe2' and shrt_df.context_shock[index] != 'prior' and shrt_df.context_shock2[index] != 'post':\n",
    "        across_TS.append(resp_dt[index])\n",
    "        rt_across_TS.append(resp_rt[index])\n",
    "        \n",
    "    if shrt_df.cond1[index] == 'across_safe1' and shrt_df.cond2[index] == 'across_threat2' and shrt_df.context_shock[index] != 'prior' and shrt_df.context_shock2[index] != 'post':\n",
    "        across_ST.append(resp_dt[index])\n",
    "        rt_across_ST.append(resp_rt[index])\n",
    "    \n",
    "    if shrt_df.cond1[index] == 'across_safe1' and shrt_df.cond2[index] == 'across_safe2' and shrt_df.context_shock[index] != 'prior' and shrt_df.context_shock2[index] != 'post':\n",
    "        across_SS.append(resp_dt[index])\n",
    "        rt_across_SS.append(resp_rt[index])"
   ]
  },
  {
   "cell_type": "code",
   "execution_count": 17,
   "metadata": {},
   "outputs": [
    {
     "data": {
      "text/plain": [
       "20"
      ]
     },
     "execution_count": 17,
     "metadata": {},
     "output_type": "execute_result"
    }
   ],
   "source": [
    "len(across_SS)"
   ]
  },
  {
   "cell_type": "code",
   "execution_count": 13,
   "metadata": {},
   "outputs": [],
   "source": [
    "SSwithin_close = []\n",
    "SSwithin_far = []\n",
    "\n",
    "TTwithin_close = []\n",
    "TTwithin_far = []\n",
    "\n",
    "for a in within_SS:\n",
    "    if a == 1 or a == 2:\n",
    "        SSwithin_close.append(a)\n",
    "    if a == 3 or a == 4:\n",
    "        SSwithin_far.append(a)\n",
    "        \n",
    "for a in within_TT:\n",
    "    if a == 1 or a == 2:\n",
    "        TTwithin_close.append(a)\n",
    "    if a == 3 or a == 4:\n",
    "        TTwithin_far.append(a)"
   ]
  },
  {
   "cell_type": "code",
   "execution_count": 14,
   "metadata": {},
   "outputs": [],
   "source": [
    "SSacross_close = []\n",
    "SSacross_far = []\n",
    "\n",
    "STacross_close = []\n",
    "STacross_far = []\n",
    "\n",
    "TSacross_close = []\n",
    "TSacross_far = []\n",
    "\n",
    "TTacross_close = []\n",
    "TTacross_far = []\n",
    "\n",
    "for c in across_SS:\n",
    "    if c == 1 or c == 2:\n",
    "        SSacross_close.append(c)\n",
    "    if c == 3 or c == 4:\n",
    "        SSacross_far.append(c)\n",
    "        \n",
    "for c in across_TT:\n",
    "    if c == 1 or c == 2:\n",
    "        TTacross_close.append(c)\n",
    "    if c == 3 or c == 4:\n",
    "        TTacross_far.append(c)\n",
    "        \n",
    "for c in across_ST:\n",
    "    if c == 1 or c == 2:\n",
    "        STacross_close.append(c)\n",
    "    if c == 3 or c == 4:\n",
    "        STacross_far.append(c)\n",
    "        \n",
    "for c in across_TS:\n",
    "    if c == 1 or c == 2:\n",
    "        TSacross_close.append(c)\n",
    "    if c == 3 or c == 4:\n",
    "        TSacross_far.append(c)\n"
   ]
  },
  {
   "cell_type": "code",
   "execution_count": 15,
   "metadata": {},
   "outputs": [],
   "source": [
    "SSwithin_bias = (len(SSwithin_close)-len(SSwithin_far))/(len(SSwithin_close)+len(SSwithin_far))\n",
    "all_SSwithin_bias.append(SSwithin_bias)\n",
    "TTwithin_bias = (len(TTwithin_close)-len(TTwithin_far))/(len(TTwithin_close)+len(TTwithin_far))\n",
    "all_TTwithin_bias.append(TTwithin_bias)\n",
    "\n",
    "SSacross_bias = (len(SSacross_close)-len(SSacross_far))/(len(SSacross_close)+len(SSacross_far))\n",
    "all_SSacross_bias.append(SSacross_bias)\n",
    "STacross_bias = (len(STacross_close)-len(STacross_far))/(len(STacross_close)+len(STacross_far))\n",
    "all_STacross_bias.append(STacross_bias)\n",
    "TSacross_bias = (len(TSacross_close)-len(TSacross_far))/(len(TSacross_close)+len(TSacross_far))\n",
    "all_TSacross_bias.append(TSacross_bias)\n",
    "TTacross_bias = (len(TTacross_close)-len(TTacross_far))/(len(TTacross_close)+len(TTacross_far))\n",
    "all_TTacross_bias.append(TTacross_bias)"
   ]
  },
  {
   "cell_type": "markdown",
   "metadata": {},
   "source": [
    "### rep_graph"
   ]
  },
  {
   "cell_type": "code",
   "execution_count": 21,
   "metadata": {},
   "outputs": [],
   "source": [
    "W_close_bias = (len(SSwithin_close))/len(within_SS)\n",
    "W_far_bias = (len(SSwithin_far))/len(within_SS)\n",
    "A_close_bias = (len(SSacross_close))/len(across_SS)\n",
    "A_far_bias = (len(SSacross_far))/len(across_SS)"
   ]
  },
  {
   "cell_type": "code",
   "execution_count": 22,
   "metadata": {},
   "outputs": [
    {
     "name": "stdout",
     "output_type": "stream",
     "text": [
      "0.6666666666666666\n",
      "0.3333333333333333\n",
      "0.4\n",
      "0.6\n"
     ]
    }
   ],
   "source": [
    "print(W_close_bias)\n",
    "print(W_far_bias)\n",
    "print(A_close_bias)\n",
    "print(A_far_bias)"
   ]
  },
  {
   "cell_type": "markdown",
   "metadata": {},
   "source": [
    "### graphs"
   ]
  },
  {
   "cell_type": "code",
   "execution_count": 23,
   "metadata": {},
   "outputs": [
    {
     "data": {
      "text/plain": [
       "Text(0.5, 1.0, '56.0_Within context temporal bias')"
      ]
     },
     "execution_count": 23,
     "metadata": {},
     "output_type": "execute_result"
    },
    {
     "data": {
      "image/png": "[encoded data removed]",
      "text/plain": [
       "<Figure size 432x288 with 1 Axes>"
      ]
     },
     "metadata": {
      "needs_background": "light"
     },
     "output_type": "display_data"
    }
   ],
   "source": [
    "x = ['Safe', 'Threat']\n",
    "y = [SSwithin_bias, TTwithin_bias]\n",
    "plt.bar(x, y, width=0.8, bottom=None, color = ['grey', 'purple'], align='center', data=None)\n",
    "plt.ylim(-1, 1)\n",
    "plt.xlabel(\"Context\", fontsize = \"x-large\")\n",
    "plt.xticks(fontsize = \"x-large\")\n",
    "plt.ylabel(\"Close-bias\", fontsize = \"x-large\")\n",
    "plt.yticks(fontsize = \"x-large\")\n",
    "plt.title(\"%s_Within context temporal bias\"%pt_num, fontsize = \"x-large\")"
   ]
  },
  {
   "cell_type": "code",
   "execution_count": 24,
   "metadata": {},
   "outputs": [
    {
     "data": {
      "text/plain": [
       "Text(0.5, 1.0, '56.0_Across context temporal bias')"
      ]
     },
     "execution_count": 24,
     "metadata": {},
     "output_type": "execute_result"
    },
    {
     "data": {
      "image/png": "[encoded data removed]",
      "text/plain": [
       "<Figure size 432x288 with 1 Axes>"
      ]
     },
     "metadata": {
      "needs_background": "light"
     },
     "output_type": "display_data"
    }
   ],
   "source": [
    "x = ['S-S', 'S-T', 'T-S', 'T-T']\n",
    "y = [SSacross_bias, STacross_bias, TSacross_bias, TTacross_bias]\n",
    "plt.bar(x, y, width=0.8, bottom=None, color = ['green', 'limegreen', 'gold','crimson'], align='center', data=None)\n",
    "plt.ylim(-1, 1)\n",
    "plt.xlabel(\"Context\", fontsize = \"x-large\")\n",
    "plt.xticks(fontsize = \"x-large\")\n",
    "plt.ylabel(\"Close-bias\", fontsize = \"x-large\")\n",
    "plt.yticks(fontsize = \"x-large\")\n",
    "plt.title(\"%s_Across context temporal bias\"%pt_num, fontsize = \"x-large\")"
   ]
  },
  {
   "cell_type": "code",
   "execution_count": 25,
   "metadata": {},
   "outputs": [
    {
     "data": {
      "text/plain": [
       "Text(0.5, 1.0, 'All pts_Across context temporal bias')"
      ]
     },
     "execution_count": 25,
     "metadata": {},
     "output_type": "execute_result"
    },
    {
     "data": {
      "image/png": "[encoded data removed]",
      "text/plain": [
       "<Figure size 432x288 with 1 Axes>"
      ]
     },
     "metadata": {
      "needs_background": "light"
     },
     "output_type": "display_data"
    }
   ],
   "source": [
    "x = ['Safe', 'Threat','S-S', 'S-T', 'T-S', 'T-T']\n",
    "y = [np.mean(all_SSwithin_bias), np.mean(all_TTwithin_bias), np.mean(all_SSacross_bias), np.mean(all_STacross_bias), np.mean(all_TSacross_bias), np.mean(all_TTacross_bias)]\n",
    "plt.bar(x, y, width=0.8, bottom=None, color = ['grey', 'purple','green', 'limegreen', 'gold','crimson'], align='center', data=None)\n",
    "plt.ylim(-1, 1)\n",
    "plt.xlabel(\"Context\", fontsize = \"x-large\")\n",
    "plt.xticks(fontsize = \"x-large\")\n",
    "plt.ylabel(\"Close-bias\", fontsize = \"x-large\")\n",
    "plt.yticks(fontsize = \"x-large\")\n",
    "plt.title(\"All pts_Across context temporal bias\", fontsize = \"x-large\")"
   ]
  },
  {
   "cell_type": "code",
   "execution_count": 26,
   "metadata": {},
   "outputs": [
    {
     "data": {
      "image/png": "[encoded data removed]",
      "text/plain": [
       "<Figure size 432x288 with 1 Axes>"
      ]
     },
     "metadata": {
      "needs_background": "light"
     },
     "output_type": "display_data"
    }
   ],
   "source": [
    "labels = ['Safe', 'Threat', 'S-S','S-T', 'T-S', 'T-T']\n",
    "data = [all_SSwithin_bias, all_TTwithin_bias, all_SSacross_bias, all_STacross_bias, all_TSacross_bias, all_TTacross_bias]\n",
    "colors = ['grey', 'purple','green', 'limegreen', 'gold','crimson']\n",
    "sns.stripplot(data = data, s=10, linewidth=1, palette=colors)\n",
    "\n",
    "plt.ylim(-1, 1)\n",
    "plt.xlabel(\"Context\", fontsize = \"x-large\")\n",
    "plt.xticks(np.arange(6), labels, fontsize = \"x-large\")\n",
    "plt.ylabel(\"Close-bias\", fontsize = \"x-large\")\n",
    "plt.yticks(fontsize = \"x-large\")\n",
    "plt.title(\"All pts All context bias\", fontsize = \"x-large\")\n",
    "plt.show()"
   ]
  },
  {
   "cell_type": "code",
   "execution_count": 27,
   "metadata": {},
   "outputs": [],
   "source": [
    "summarydf = pd.DataFrame({\"Safe_within_bias\":all_SSwithin_bias,\n",
    "                          \"Threat_within_bias\":all_TTwithin_bias,\n",
    "                         \"SS_across_bias\":all_SSacross_bias,\n",
    "                         \"ST_across_bias\":all_STacross_bias,\n",
    "                         \"TS_across_bias\":all_TSacross_bias,\n",
    "                         \"TT_across_bias\":all_TTacross_bias,\n",
    "                         \"rep_close_within\": W_close_bias,\n",
    "                         \"rep_far_within\": W_far_bias,\n",
    "                         \"rep_close_across\": A_close_bias,\n",
    "                         \"rep_far_across\": A_far_bias})\n",
    "summarydf.to_csv(pt_dt+\"allsummary2_newbatch.csv\", index = True, header = True )"
   ]
  },
  {
   "cell_type": "code",
   "execution_count": 28,
   "metadata": {},
   "outputs": [
    {
     "data": {
      "text/html": [
       "<div>\n",
       "<style scoped>\n",
       "    .dataframe tbody tr th:only-of-type {\n",
       "        vertical-align: middle;\n",
       "    }\n",
       "\n",
       "    .dataframe tbody tr th {\n",
       "        vertical-align: top;\n",
       "    }\n",
       "\n",
       "    .dataframe thead th {\n",
       "        text-align: right;\n",
       "    }\n",
       "</style>\n",
       "<table border=\"1\" class=\"dataframe\">\n",
       "  <thead>\n",
       "    <tr style=\"text-align: right;\">\n",
       "      <th></th>\n",
       "      <th>Safe_within_bias</th>\n",
       "      <th>Threat_within_bias</th>\n",
       "      <th>SS_across_bias</th>\n",
       "      <th>ST_across_bias</th>\n",
       "      <th>TS_across_bias</th>\n",
       "      <th>TT_across_bias</th>\n",
       "      <th>rep_close_within</th>\n",
       "      <th>rep_far_within</th>\n",
       "      <th>rep_close_across</th>\n",
       "      <th>rep_far_across</th>\n",
       "    </tr>\n",
       "  </thead>\n",
       "  <tbody>\n",
       "    <tr>\n",
       "      <th>0</th>\n",
       "      <td>0.333333</td>\n",
       "      <td>0.47619</td>\n",
       "      <td>-0.2</td>\n",
       "      <td>-0.6</td>\n",
       "      <td>-0.9</td>\n",
       "      <td>-0.8</td>\n",
       "      <td>0.666667</td>\n",
       "      <td>0.333333</td>\n",
       "      <td>0.4</td>\n",
       "      <td>0.6</td>\n",
       "    </tr>\n",
       "  </tbody>\n",
       "</table>\n",
       "</div>"
      ],
      "text/plain": [
       "   Safe_within_bias  Threat_within_bias  SS_across_bias  ST_across_bias  \\\n",
       "0          0.333333             0.47619            -0.2            -0.6   \n",
       "\n",
       "   TS_across_bias  TT_across_bias  rep_close_within  rep_far_within  \\\n",
       "0            -0.9            -0.8          0.666667        0.333333   \n",
       "\n",
       "   rep_close_across  rep_far_across  \n",
       "0               0.4             0.6  "
      ]
     },
     "execution_count": 28,
     "metadata": {},
     "output_type": "execute_result"
    }
   ],
   "source": [
    "summarydf"
   ]
  },
  {
   "cell_type": "markdown",
   "metadata": {},
   "source": [
    "# predicted results"
   ]
  },
  {
   "cell_type": "code",
   "execution_count": 23,
   "metadata": {},
   "outputs": [
    {
     "data": {
      "text/plain": [
       "Text(0.5, 1.0, 'Predicted Temporal Bias')"
      ]
     },
     "execution_count": 23,
     "metadata": {},
     "output_type": "execute_result"
    },
    {
     "data": {
      "image/png": "[encoded data removed]",
      "text/plain": [
       "<Figure size 432x288 with 1 Axes>"
      ]
     },
     "metadata": {
      "needs_background": "light"
     },
     "output_type": "display_data"
    }
   ],
   "source": [
    "x = ['Safe', 'Threat','S-S', 'S-T', 'T-S', 'T-T']\n",
    "y = [0.4, -0.2, -0.1, -0.4, -0.2, 0.3]\n",
    "plt.bar(x, y, width=0.8, bottom=None, color = ['grey', 'purple','green', 'limegreen', 'gold','crimson'], align='center', data=None)\n",
    "plt.ylim(-1, 1)\n",
    "plt.xlabel(\"Context\", fontsize = \"x-large\")\n",
    "plt.xticks(fontsize = \"x-large\")\n",
    "plt.ylabel(\"'Close'- 'Far' bias\", fontsize = \"x-large\")\n",
    "plt.yticks(fontsize = \"x-large\")\n",
    "plt.axhline(y = 0.0, color = 'k', linestyle = '-')\n",
    "plt.title(\"Predicted Temporal Bias\", fontsize = \"x-large\")"
   ]
  },
  {
   "cell_type": "markdown",
   "metadata": {},
   "source": [
    "# group results"
   ]
  },
  {
   "cell_type": "code",
   "execution_count": 24,
   "metadata": {},
   "outputs": [],
   "source": [
    "res_csv = pd.read_csv('/Users/ayesh/Desktop/Gradstuff/Temp_mem2022/summary_data/allsummary2.csv')"
   ]
  },
  {
   "cell_type": "code",
   "execution_count": 25,
   "metadata": {},
   "outputs": [
    {
     "data": {
      "text/html": [
       "<div>\n",
       "<style scoped>\n",
       "    .dataframe tbody tr th:only-of-type {\n",
       "        vertical-align: middle;\n",
       "    }\n",
       "\n",
       "    .dataframe tbody tr th {\n",
       "        vertical-align: top;\n",
       "    }\n",
       "\n",
       "    .dataframe thead th {\n",
       "        text-align: right;\n",
       "    }\n",
       "</style>\n",
       "<table border=\"1\" class=\"dataframe\">\n",
       "  <thead>\n",
       "    <tr style=\"text-align: right;\">\n",
       "      <th></th>\n",
       "      <th>Unnamed: 0</th>\n",
       "      <th>Safe_within_bias</th>\n",
       "      <th>Threat_within_bias</th>\n",
       "      <th>SS_across_bias</th>\n",
       "      <th>ST_across_bias</th>\n",
       "      <th>TS_across_bias</th>\n",
       "      <th>TT_across_bias</th>\n",
       "    </tr>\n",
       "  </thead>\n",
       "  <tbody>\n",
       "    <tr>\n",
       "      <th>0</th>\n",
       "      <td>0</td>\n",
       "      <td>0.565217</td>\n",
       "      <td>0.545455</td>\n",
       "      <td>-0.2</td>\n",
       "      <td>-0.4</td>\n",
       "      <td>-0.300000</td>\n",
       "      <td>-0.2</td>\n",
       "    </tr>\n",
       "    <tr>\n",
       "      <th>1</th>\n",
       "      <td>1</td>\n",
       "      <td>-0.130435</td>\n",
       "      <td>-0.181818</td>\n",
       "      <td>-0.2</td>\n",
       "      <td>-0.2</td>\n",
       "      <td>0.100000</td>\n",
       "      <td>0.0</td>\n",
       "    </tr>\n",
       "    <tr>\n",
       "      <th>2</th>\n",
       "      <td>2</td>\n",
       "      <td>0.288889</td>\n",
       "      <td>0.022222</td>\n",
       "      <td>0.3</td>\n",
       "      <td>0.2</td>\n",
       "      <td>-0.200000</td>\n",
       "      <td>-0.1</td>\n",
       "    </tr>\n",
       "    <tr>\n",
       "      <th>3</th>\n",
       "      <td>3</td>\n",
       "      <td>0.022222</td>\n",
       "      <td>0.200000</td>\n",
       "      <td>-0.7</td>\n",
       "      <td>-0.6</td>\n",
       "      <td>-0.300000</td>\n",
       "      <td>-0.5</td>\n",
       "    </tr>\n",
       "    <tr>\n",
       "      <th>4</th>\n",
       "      <td>4</td>\n",
       "      <td>-0.106383</td>\n",
       "      <td>0.318182</td>\n",
       "      <td>-0.3</td>\n",
       "      <td>-0.6</td>\n",
       "      <td>-0.333333</td>\n",
       "      <td>0.3</td>\n",
       "    </tr>\n",
       "    <tr>\n",
       "      <th>5</th>\n",
       "      <td>5</td>\n",
       "      <td>0.318182</td>\n",
       "      <td>0.347826</td>\n",
       "      <td>-0.6</td>\n",
       "      <td>-0.1</td>\n",
       "      <td>-0.700000</td>\n",
       "      <td>-0.1</td>\n",
       "    </tr>\n",
       "    <tr>\n",
       "      <th>6</th>\n",
       "      <td>6</td>\n",
       "      <td>0.090909</td>\n",
       "      <td>0.478261</td>\n",
       "      <td>-0.5</td>\n",
       "      <td>-0.1</td>\n",
       "      <td>-0.200000</td>\n",
       "      <td>-0.4</td>\n",
       "    </tr>\n",
       "    <tr>\n",
       "      <th>7</th>\n",
       "      <td>7</td>\n",
       "      <td>0.272727</td>\n",
       "      <td>0.260870</td>\n",
       "      <td>-0.1</td>\n",
       "      <td>0.2</td>\n",
       "      <td>0.300000</td>\n",
       "      <td>-0.1</td>\n",
       "    </tr>\n",
       "    <tr>\n",
       "      <th>8</th>\n",
       "      <td>8</td>\n",
       "      <td>-0.045455</td>\n",
       "      <td>-0.304348</td>\n",
       "      <td>-0.2</td>\n",
       "      <td>-0.6</td>\n",
       "      <td>-0.100000</td>\n",
       "      <td>0.0</td>\n",
       "    </tr>\n",
       "    <tr>\n",
       "      <th>9</th>\n",
       "      <td>9</td>\n",
       "      <td>-0.136364</td>\n",
       "      <td>-0.086957</td>\n",
       "      <td>0.1</td>\n",
       "      <td>-0.2</td>\n",
       "      <td>-0.300000</td>\n",
       "      <td>-0.3</td>\n",
       "    </tr>\n",
       "    <tr>\n",
       "      <th>10</th>\n",
       "      <td>10</td>\n",
       "      <td>0.826087</td>\n",
       "      <td>0.772727</td>\n",
       "      <td>0.0</td>\n",
       "      <td>-0.4</td>\n",
       "      <td>-0.300000</td>\n",
       "      <td>-0.3</td>\n",
       "    </tr>\n",
       "    <tr>\n",
       "      <th>11</th>\n",
       "      <td>11</td>\n",
       "      <td>-0.043478</td>\n",
       "      <td>0.136364</td>\n",
       "      <td>-0.1</td>\n",
       "      <td>-0.2</td>\n",
       "      <td>-0.300000</td>\n",
       "      <td>-0.2</td>\n",
       "    </tr>\n",
       "    <tr>\n",
       "      <th>12</th>\n",
       "      <td>12</td>\n",
       "      <td>-0.200000</td>\n",
       "      <td>0.333333</td>\n",
       "      <td>-0.1</td>\n",
       "      <td>-0.1</td>\n",
       "      <td>-0.200000</td>\n",
       "      <td>0.2</td>\n",
       "    </tr>\n",
       "    <tr>\n",
       "      <th>13</th>\n",
       "      <td>13</td>\n",
       "      <td>-0.090909</td>\n",
       "      <td>0.173913</td>\n",
       "      <td>-0.3</td>\n",
       "      <td>-0.3</td>\n",
       "      <td>-0.300000</td>\n",
       "      <td>-0.1</td>\n",
       "    </tr>\n",
       "    <tr>\n",
       "      <th>14</th>\n",
       "      <td>14</td>\n",
       "      <td>0.363636</td>\n",
       "      <td>0.000000</td>\n",
       "      <td>-0.3</td>\n",
       "      <td>-0.1</td>\n",
       "      <td>-0.300000</td>\n",
       "      <td>-0.2</td>\n",
       "    </tr>\n",
       "    <tr>\n",
       "      <th>15</th>\n",
       "      <td>15</td>\n",
       "      <td>0.155556</td>\n",
       "      <td>0.333333</td>\n",
       "      <td>0.2</td>\n",
       "      <td>-0.2</td>\n",
       "      <td>0.000000</td>\n",
       "      <td>-0.1</td>\n",
       "    </tr>\n",
       "    <tr>\n",
       "      <th>16</th>\n",
       "      <td>16</td>\n",
       "      <td>-0.066667</td>\n",
       "      <td>0.066667</td>\n",
       "      <td>0.3</td>\n",
       "      <td>-0.5</td>\n",
       "      <td>-0.300000</td>\n",
       "      <td>-0.7</td>\n",
       "    </tr>\n",
       "    <tr>\n",
       "      <th>17</th>\n",
       "      <td>17</td>\n",
       "      <td>0.395349</td>\n",
       "      <td>0.617021</td>\n",
       "      <td>-0.2</td>\n",
       "      <td>-0.4</td>\n",
       "      <td>0.000000</td>\n",
       "      <td>-0.3</td>\n",
       "    </tr>\n",
       "    <tr>\n",
       "      <th>18</th>\n",
       "      <td>18</td>\n",
       "      <td>0.255814</td>\n",
       "      <td>-0.234043</td>\n",
       "      <td>-0.2</td>\n",
       "      <td>0.1</td>\n",
       "      <td>-0.400000</td>\n",
       "      <td>0.2</td>\n",
       "    </tr>\n",
       "    <tr>\n",
       "      <th>19</th>\n",
       "      <td>19</td>\n",
       "      <td>0.565217</td>\n",
       "      <td>0.227273</td>\n",
       "      <td>-0.1</td>\n",
       "      <td>0.3</td>\n",
       "      <td>0.100000</td>\n",
       "      <td>0.1</td>\n",
       "    </tr>\n",
       "    <tr>\n",
       "      <th>20</th>\n",
       "      <td>20</td>\n",
       "      <td>-0.106383</td>\n",
       "      <td>0.209302</td>\n",
       "      <td>0.3</td>\n",
       "      <td>-0.2</td>\n",
       "      <td>-0.100000</td>\n",
       "      <td>-0.2</td>\n",
       "    </tr>\n",
       "    <tr>\n",
       "      <th>21</th>\n",
       "      <td>21</td>\n",
       "      <td>0.063830</td>\n",
       "      <td>0.348837</td>\n",
       "      <td>0.0</td>\n",
       "      <td>-0.5</td>\n",
       "      <td>0.000000</td>\n",
       "      <td>0.2</td>\n",
       "    </tr>\n",
       "  </tbody>\n",
       "</table>\n",
       "</div>"
      ],
      "text/plain": [
       "    Unnamed: 0  Safe_within_bias  Threat_within_bias  SS_across_bias  \\\n",
       "0            0          0.565217            0.545455            -0.2   \n",
       "1            1         -0.130435           -0.181818            -0.2   \n",
       "2            2          0.288889            0.022222             0.3   \n",
       "3            3          0.022222            0.200000            -0.7   \n",
       "4            4         -0.106383            0.318182            -0.3   \n",
       "5            5          0.318182            0.347826            -0.6   \n",
       "6            6          0.090909            0.478261            -0.5   \n",
       "7            7          0.272727            0.260870            -0.1   \n",
       "8            8         -0.045455           -0.304348            -0.2   \n",
       "9            9         -0.136364           -0.086957             0.1   \n",
       "10          10          0.826087            0.772727             0.0   \n",
       "11          11         -0.043478            0.136364            -0.1   \n",
       "12          12         -0.200000            0.333333            -0.1   \n",
       "13          13         -0.090909            0.173913            -0.3   \n",
       "14          14          0.363636            0.000000            -0.3   \n",
       "15          15          0.155556            0.333333             0.2   \n",
       "16          16         -0.066667            0.066667             0.3   \n",
       "17          17          0.395349            0.617021            -0.2   \n",
       "18          18          0.255814           -0.234043            -0.2   \n",
       "19          19          0.565217            0.227273            -0.1   \n",
       "20          20         -0.106383            0.209302             0.3   \n",
       "21          21          0.063830            0.348837             0.0   \n",
       "\n",
       "    ST_across_bias  TS_across_bias  TT_across_bias  \n",
       "0             -0.4       -0.300000            -0.2  \n",
       "1             -0.2        0.100000             0.0  \n",
       "2              0.2       -0.200000            -0.1  \n",
       "3             -0.6       -0.300000            -0.5  \n",
       "4             -0.6       -0.333333             0.3  \n",
       "5             -0.1       -0.700000            -0.1  \n",
       "6             -0.1       -0.200000            -0.4  \n",
       "7              0.2        0.300000            -0.1  \n",
       "8             -0.6       -0.100000             0.0  \n",
       "9             -0.2       -0.300000            -0.3  \n",
       "10            -0.4       -0.300000            -0.3  \n",
       "11            -0.2       -0.300000            -0.2  \n",
       "12            -0.1       -0.200000             0.2  \n",
       "13            -0.3       -0.300000            -0.1  \n",
       "14            -0.1       -0.300000            -0.2  \n",
       "15            -0.2        0.000000            -0.1  \n",
       "16            -0.5       -0.300000            -0.7  \n",
       "17            -0.4        0.000000            -0.3  \n",
       "18             0.1       -0.400000             0.2  \n",
       "19             0.3        0.100000             0.1  \n",
       "20            -0.2       -0.100000            -0.2  \n",
       "21            -0.5        0.000000             0.2  "
      ]
     },
     "execution_count": 25,
     "metadata": {},
     "output_type": "execute_result"
    }
   ],
   "source": [
    "res_csv"
   ]
  },
  {
   "cell_type": "code",
   "execution_count": 26,
   "metadata": {},
   "outputs": [
    {
     "data": {
      "image/png": "[encoded data removed]",
      "text/plain": [
       "<Figure size 432x288 with 1 Axes>"
      ]
     },
     "metadata": {
      "needs_background": "light"
     },
     "output_type": "display_data"
    }
   ],
   "source": [
    "labels = ['Safe', 'Threat', 'S-S','S-T', 'T-S', 'T-T']\n",
    "data = [res_csv.Safe_within_bias, res_csv.Threat_within_bias, res_csv.SS_across_bias, res_csv.ST_across_bias, res_csv.TS_across_bias, res_csv.TT_across_bias]\n",
    "colors = ['grey', 'purple','green', 'limegreen', 'gold','crimson']\n",
    "sns.stripplot(data = data, s=10, linewidth=1, palette=colors)\n",
    "\n",
    "plt.ylim(-1, 1)\n",
    "plt.xlabel(\"Context\", fontsize = \"x-large\")\n",
    "plt.xticks(np.arange(6), labels, fontsize = \"x-large\")\n",
    "plt.ylabel(\"'Close'- 'Far' bias\", fontsize = \"x-large\")\n",
    "plt.yticks(fontsize = \"x-large\")\n",
    "plt.axhline(y = 0.0, color = 'k', linestyle = '-')\n",
    "plt.title(\"All pts All context bias\", fontsize = \"x-large\")\n",
    "plt.show()"
   ]
  },
  {
   "cell_type": "code",
   "execution_count": 27,
   "metadata": {},
   "outputs": [
    {
     "data": {
      "text/plain": [
       "Text(0.5, 1.0, 'All participants (N = 22) temporal bias')"
      ]
     },
     "execution_count": 27,
     "metadata": {},
     "output_type": "execute_result"
    },
    {
     "data": {
      "image/png": "[encoded data removed]",
      "text/plain": [
       "<Figure size 432x288 with 1 Axes>"
      ]
     },
     "metadata": {
      "needs_background": "light"
     },
     "output_type": "display_data"
    }
   ],
   "source": [
    "x = ['Safe', 'Threat','S-S', 'S-T', 'T-S', 'T-T']\n",
    "y = [np.mean(res_csv.Safe_within_bias), np.mean(res_csv.Threat_within_bias), np.mean(res_csv.SS_across_bias), np.mean(res_csv.ST_across_bias), np.mean(res_csv.TS_across_bias), np.mean(res_csv.TT_across_bias)]\n",
    "totalpts = len(res_csv)\n",
    "sem = [stats.sem(res_csv.Safe_within_bias), stats.sem(res_csv.Threat_within_bias), stats.sem(res_csv.SS_across_bias), stats.sem(res_csv.ST_across_bias), stats.sem(res_csv.TS_across_bias), stats.sem(res_csv.TT_across_bias)]\n",
    "plt.bar(x, y, width=0.8, bottom=None, color = ['grey', 'purple','green', 'limegreen', 'gold','crimson'], align='center', data=None, yerr = sem, error_kw=dict(elinewidth=2,ecolor='black'))\n",
    "plt.ylim(-1, 1)\n",
    "plt.xlabel(\"Context\", fontsize = \"x-large\")\n",
    "plt.xticks(fontsize = \"x-large\")\n",
    "plt.ylabel(\"'Close'- 'Far' bias\", fontsize = \"x-large\")\n",
    "plt.yticks(fontsize = \"x-large\")\n",
    "plt.axhline(y = 0.0, color = 'k', linestyle = '-')\n",
    "plt.title(\"All participants (N = %s) temporal bias\"%totalpts, fontsize = \"x-large\")"
   ]
  },
  {
   "cell_type": "code",
   "execution_count": null,
   "metadata": {},
   "outputs": [],
   "source": []
  }
 ],
 "metadata": {
  "kernelspec": {
   "display_name": "Python 3",
   "language": "python",
   "name": "python3"
  },
  "language_info": {
   "codemirror_mode": {
    "name": "ipython",
    "version": 3
   },
   "file_extension": ".py",
   "mimetype": "text/x-python",
   "name": "python",
   "nbconvert_exporter": "python",
   "pygments_lexer": "ipython3",
   "version": "3.8.5"
  }
 },
 "nbformat": 4,
 "nbformat_minor": 4
}
