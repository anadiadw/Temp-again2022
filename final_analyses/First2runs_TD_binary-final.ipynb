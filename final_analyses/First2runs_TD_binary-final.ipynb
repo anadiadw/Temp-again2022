{
 "cells": [
  {
   "cell_type": "markdown",
   "metadata": {},
   "source": [
    "# To run ONCE during session"
   ]
  },
  {
   "cell_type": "code",
   "execution_count": 1,
   "metadata": {},
   "outputs": [],
   "source": [
    "## importing all libraries and dependencies\n",
    "import pandas as pd\n",
    "import numpy as np\n",
    "import os\n",
    "from os import listdir\n",
    "import glob\n",
    "from os.path import isfile, join\n",
    "import shutil\n",
    "import PIL\n",
    "from PIL import Image\n",
    "import random\n",
    "import math\n",
    "from heapq import merge\n",
    "from random import *\n",
    "import scipy as sp\n",
    "from scipy import stats\n",
    "import seaborn as sns\n",
    "from matplotlib import pyplot as plt"
   ]
  },
  {
   "cell_type": "code",
   "execution_count": 2,
   "metadata": {},
   "outputs": [],
   "source": [
    "participants = []\n",
    "all_SSwithin_bias = []\n",
    "all_TTwithin_bias = []\n",
    "\n",
    "all_SSacross_bias = []\n",
    "all_STacross_bias = []\n",
    "all_TSacross_bias = []\n",
    "all_TTacross_bias = []"
   ]
  },
  {
   "cell_type": "code",
   "execution_count": 3,
   "metadata": {},
   "outputs": [],
   "source": [
    "data_dir = '/Users/ayesh/Desktop/Gradstuff/Temp_mem2022/SCL_final/all_data/'\n",
    "dir_ext = [f for f in listdir(data_dir)]\n",
    "pt_dir_lst = []\n",
    "for i in dir_ext:\n",
    "    pt_dir = data_dir + i\n",
    "    pt_dir_lst.append(pt_dir)"
   ]
  },
  {
   "cell_type": "markdown",
   "metadata": {},
   "source": [
    "## Edit for each participant"
   ]
  },
  {
   "cell_type": "code",
   "execution_count": 698,
   "metadata": {},
   "outputs": [
    {
     "ename": "IndexError",
     "evalue": "list index out of range",
     "output_type": "error",
     "traceback": [
      "\u001b[1;31m---------------------------------------------------------------------------\u001b[0m",
      "\u001b[1;31mIndexError\u001b[0m                                Traceback (most recent call last)",
      "\u001b[1;32m<ipython-input-698-6275c7eeaf2f>\u001b[0m in \u001b[0;36m<module>\u001b[1;34m\u001b[0m\n\u001b[1;32m----> 1\u001b[1;33m \u001b[0mpt_dir\u001b[0m \u001b[1;33m=\u001b[0m \u001b[0mpt_dir_lst\u001b[0m\u001b[1;33m[\u001b[0m\u001b[1;36m36\u001b[0m\u001b[1;33m]\u001b[0m\u001b[1;33m\u001b[0m\u001b[1;33m\u001b[0m\u001b[0m\n\u001b[0m\u001b[0;32m      2\u001b[0m \u001b[0mpt_dir\u001b[0m\u001b[1;33m\u001b[0m\u001b[1;33m\u001b[0m\u001b[0m\n",
      "\u001b[1;31mIndexError\u001b[0m: list index out of range"
     ]
    }
   ],
   "source": [
    "pt_dir = pt_dir_lst[36]\n",
    "pt_dir"
   ]
  },
  {
   "cell_type": "code",
   "execution_count": 680,
   "metadata": {},
   "outputs": [],
   "source": [
    "encoding_files = []\n",
    "tempdist_files = []\n",
    "srcmem_files = []\n",
    "for pt in pt_dir:\n",
    "    pt_files = [f for f in listdir(pt_dir) if isfile(join(pt_dir, f))]\n",
    "\n",
    "for a in pt_files:\n",
    "    if a[-4:] == '.csv' and 'encoding' in a:\n",
    "        encoding_files.append(pt_dir + '/' + a)\n",
    "    if a[-4:] == '.csv' and 'temp_dist' in a:\n",
    "        tempdist_files.append(pt_dir + '/' + a)\n",
    "    if a[-4:] == '.csv' and 'src_mem' in a:\n",
    "        srcmem_files.append(pt_dir + '/' + a)"
   ]
  },
  {
   "cell_type": "code",
   "execution_count": 681,
   "metadata": {},
   "outputs": [
    {
     "data": {
      "text/plain": [
       "48"
      ]
     },
     "execution_count": 681,
     "metadata": {},
     "output_type": "execute_result"
    }
   ],
   "source": [
    "#1 add in column for pt number and run number\n",
    "#2 concat all the run csvs for each test\n",
    "#3 drop NAs\n",
    "len(pt_files)"
   ]
  },
  {
   "cell_type": "code",
   "execution_count": 682,
   "metadata": {},
   "outputs": [
    {
     "data": {
      "text/plain": [
       "'/Users/ayesh/Desktop/Gradstuff/Temp_mem2022/SCL_final/all_data/emt_75/75_temp_dist2.py_2023-10-17_17h29.12.301.csv'"
      ]
     },
     "execution_count": 682,
     "metadata": {},
     "output_type": "execute_result"
    }
   ],
   "source": [
    "tempdist_files[1]"
   ]
  },
  {
   "cell_type": "code",
   "execution_count": 683,
   "metadata": {},
   "outputs": [],
   "source": [
    "tempdf = []\n",
    "rn1 = tempdist_files[0]\n",
    "dt1 = pd.DataFrame(pd.read_csv(rn1, header = 0))\n",
    "dt1.columns = dt1.columns.str.replace(\".\", \"_\")\n",
    "dt1['run_num'] = '1'\n",
    "pt_num = dt1.participant[2]\n",
    "type(dt1)\n",
    "tempdf.append(dt1)\n",
    "b = tempdist_files[1] ## restricted to only the 2nd run\n",
    "dt = pd.DataFrame(pd.read_csv(b, header = 0))\n",
    "dt.columns = dt.columns.str.replace(\".\", \"_\")\n",
    "dt['run_num'] = b[-32]\n",
    "tempdf.append(dt)\n",
    "allTD_df = pd.concat(tempdf)\n",
    "allTD_df = allTD_df.dropna(subset=['context_num', 'contexts_pics', 'objects_pics'])\n",
    "pt_dt = 'C:/Users/ayesh/Desktop/Gradstuff/Temp_mem2022/SCL_final/summary_behav/first2runs/'\n",
    "os.makedirs(pt_dt, exist_ok=True)  \n",
    "allTD_df.to_csv(pt_dt+\"%s_pt2runs.csv\"%pt_num, index = True, header = True )"
   ]
  },
  {
   "cell_type": "code",
   "execution_count": 684,
   "metadata": {},
   "outputs": [
    {
     "data": {
      "text/html": [
       "<div>\n",
       "<style scoped>\n",
       "    .dataframe tbody tr th:only-of-type {\n",
       "        vertical-align: middle;\n",
       "    }\n",
       "\n",
       "    .dataframe tbody tr th {\n",
       "        vertical-align: top;\n",
       "    }\n",
       "\n",
       "    .dataframe thead th {\n",
       "        text-align: right;\n",
       "    }\n",
       "</style>\n",
       "<table border=\"1\" class=\"dataframe\">\n",
       "  <thead>\n",
       "    <tr style=\"text-align: right;\">\n",
       "      <th></th>\n",
       "      <th>context_num</th>\n",
       "      <th>context_type</th>\n",
       "      <th>context_shock</th>\n",
       "      <th>cntxt_trialnum</th>\n",
       "      <th>shock_object</th>\n",
       "      <th>us</th>\n",
       "      <th>shock_time</th>\n",
       "      <th>contexts_pics</th>\n",
       "      <th>condition</th>\n",
       "      <th>objects_pics</th>\n",
       "      <th>...</th>\n",
       "      <th>text_4_started</th>\n",
       "      <th>session</th>\n",
       "      <th>participant</th>\n",
       "      <th>date</th>\n",
       "      <th>expName</th>\n",
       "      <th>psychopyVersion</th>\n",
       "      <th>frameRate</th>\n",
       "      <th>Unnamed: 55</th>\n",
       "      <th>run_num</th>\n",
       "      <th>Unnamed: 51</th>\n",
       "    </tr>\n",
       "  </thead>\n",
       "  <tbody>\n",
       "    <tr>\n",
       "      <th>3</th>\n",
       "      <td>7.0</td>\n",
       "      <td>THREAT</td>\n",
       "      <td>None</td>\n",
       "      <td>2.0</td>\n",
       "      <td>None</td>\n",
       "      <td>0.0</td>\n",
       "      <td>None</td>\n",
       "      <td>Scenes_selected/scene_043.jpg</td>\n",
       "      <td>within_threat1</td>\n",
       "      <td>new_obs/1_312.jpg</td>\n",
       "      <td>...</td>\n",
       "      <td>NaN</td>\n",
       "      <td>1.0</td>\n",
       "      <td>75.0</td>\n",
       "      <td>2023-10-17_17h08.29.780</td>\n",
       "      <td>temp_dist.py</td>\n",
       "      <td>2022.2.1</td>\n",
       "      <td>59.949199</td>\n",
       "      <td>NaN</td>\n",
       "      <td>1</td>\n",
       "      <td>NaN</td>\n",
       "    </tr>\n",
       "    <tr>\n",
       "      <th>4</th>\n",
       "      <td>5.0</td>\n",
       "      <td>SAFE</td>\n",
       "      <td>None</td>\n",
       "      <td>5.0</td>\n",
       "      <td>None</td>\n",
       "      <td>0.0</td>\n",
       "      <td>None</td>\n",
       "      <td>Scenes_selected/scene_006.jpg</td>\n",
       "      <td>across_safe1</td>\n",
       "      <td>new_obs/1_270.jpg</td>\n",
       "      <td>...</td>\n",
       "      <td>NaN</td>\n",
       "      <td>1.0</td>\n",
       "      <td>75.0</td>\n",
       "      <td>2023-10-17_17h08.29.780</td>\n",
       "      <td>temp_dist.py</td>\n",
       "      <td>2022.2.1</td>\n",
       "      <td>59.949199</td>\n",
       "      <td>NaN</td>\n",
       "      <td>1</td>\n",
       "      <td>NaN</td>\n",
       "    </tr>\n",
       "    <tr>\n",
       "      <th>5</th>\n",
       "      <td>13.0</td>\n",
       "      <td>THREAT</td>\n",
       "      <td>None</td>\n",
       "      <td>5.0</td>\n",
       "      <td>None</td>\n",
       "      <td>0.0</td>\n",
       "      <td>None</td>\n",
       "      <td>Scenes_selected/scene_004.jpg</td>\n",
       "      <td>across_threat1</td>\n",
       "      <td>new_obs/1_533.jpg</td>\n",
       "      <td>...</td>\n",
       "      <td>NaN</td>\n",
       "      <td>1.0</td>\n",
       "      <td>75.0</td>\n",
       "      <td>2023-10-17_17h08.29.780</td>\n",
       "      <td>temp_dist.py</td>\n",
       "      <td>2022.2.1</td>\n",
       "      <td>59.949199</td>\n",
       "      <td>NaN</td>\n",
       "      <td>1</td>\n",
       "      <td>NaN</td>\n",
       "    </tr>\n",
       "    <tr>\n",
       "      <th>6</th>\n",
       "      <td>14.0</td>\n",
       "      <td>SAFE</td>\n",
       "      <td>None</td>\n",
       "      <td>5.0</td>\n",
       "      <td>None</td>\n",
       "      <td>0.0</td>\n",
       "      <td>None</td>\n",
       "      <td>Scenes_selected/scene_065.jpg</td>\n",
       "      <td>across_safe1</td>\n",
       "      <td>new_obs/object_168.jpg</td>\n",
       "      <td>...</td>\n",
       "      <td>NaN</td>\n",
       "      <td>1.0</td>\n",
       "      <td>75.0</td>\n",
       "      <td>2023-10-17_17h08.29.780</td>\n",
       "      <td>temp_dist.py</td>\n",
       "      <td>2022.2.1</td>\n",
       "      <td>59.949199</td>\n",
       "      <td>NaN</td>\n",
       "      <td>1</td>\n",
       "      <td>NaN</td>\n",
       "    </tr>\n",
       "    <tr>\n",
       "      <th>7</th>\n",
       "      <td>3.0</td>\n",
       "      <td>SAFE</td>\n",
       "      <td>post</td>\n",
       "      <td>5.0</td>\n",
       "      <td>None</td>\n",
       "      <td>0.0</td>\n",
       "      <td>None</td>\n",
       "      <td>Scenes_selected/scene_064.jpg</td>\n",
       "      <td>across_safe1</td>\n",
       "      <td>new_obs/1_354.jpg</td>\n",
       "      <td>...</td>\n",
       "      <td>NaN</td>\n",
       "      <td>1.0</td>\n",
       "      <td>75.0</td>\n",
       "      <td>2023-10-17_17h08.29.780</td>\n",
       "      <td>temp_dist.py</td>\n",
       "      <td>2022.2.1</td>\n",
       "      <td>59.949199</td>\n",
       "      <td>NaN</td>\n",
       "      <td>1</td>\n",
       "      <td>NaN</td>\n",
       "    </tr>\n",
       "    <tr>\n",
       "      <th>...</th>\n",
       "      <td>...</td>\n",
       "      <td>...</td>\n",
       "      <td>...</td>\n",
       "      <td>...</td>\n",
       "      <td>...</td>\n",
       "      <td>...</td>\n",
       "      <td>...</td>\n",
       "      <td>...</td>\n",
       "      <td>...</td>\n",
       "      <td>...</td>\n",
       "      <td>...</td>\n",
       "      <td>...</td>\n",
       "      <td>...</td>\n",
       "      <td>...</td>\n",
       "      <td>...</td>\n",
       "      <td>...</td>\n",
       "      <td>...</td>\n",
       "      <td>...</td>\n",
       "      <td>...</td>\n",
       "      <td>...</td>\n",
       "      <td>...</td>\n",
       "    </tr>\n",
       "    <tr>\n",
       "      <th>32</th>\n",
       "      <td>1.0</td>\n",
       "      <td>SAFE</td>\n",
       "      <td>None</td>\n",
       "      <td>2.0</td>\n",
       "      <td>None</td>\n",
       "      <td>0.0</td>\n",
       "      <td>None</td>\n",
       "      <td>Scenes_selected/scene_018.jpeg</td>\n",
       "      <td>within_safe1</td>\n",
       "      <td>new_obs/object_271.jpg</td>\n",
       "      <td>...</td>\n",
       "      <td>NaN</td>\n",
       "      <td>1.0</td>\n",
       "      <td>75.0</td>\n",
       "      <td>2023-10-17_17h29.12.301</td>\n",
       "      <td>temp_dist2.py</td>\n",
       "      <td>2022.2.1</td>\n",
       "      <td>60.188462</td>\n",
       "      <td>NaN</td>\n",
       "      <td>2</td>\n",
       "      <td>NaN</td>\n",
       "    </tr>\n",
       "    <tr>\n",
       "      <th>33</th>\n",
       "      <td>0.0</td>\n",
       "      <td>THREAT</td>\n",
       "      <td>None</td>\n",
       "      <td>5.0</td>\n",
       "      <td>None</td>\n",
       "      <td>0.0</td>\n",
       "      <td>None</td>\n",
       "      <td>Scenes_selected/scene_011.jpg</td>\n",
       "      <td>across_threat1</td>\n",
       "      <td>new_obs/1_231.jpg</td>\n",
       "      <td>...</td>\n",
       "      <td>NaN</td>\n",
       "      <td>1.0</td>\n",
       "      <td>75.0</td>\n",
       "      <td>2023-10-17_17h29.12.301</td>\n",
       "      <td>temp_dist2.py</td>\n",
       "      <td>2022.2.1</td>\n",
       "      <td>60.188462</td>\n",
       "      <td>NaN</td>\n",
       "      <td>2</td>\n",
       "      <td>NaN</td>\n",
       "    </tr>\n",
       "    <tr>\n",
       "      <th>34</th>\n",
       "      <td>4.0</td>\n",
       "      <td>SAFE</td>\n",
       "      <td>prior</td>\n",
       "      <td>2.0</td>\n",
       "      <td>None</td>\n",
       "      <td>0.0</td>\n",
       "      <td>None</td>\n",
       "      <td>Scenes_selected/scene_072.jpeg</td>\n",
       "      <td>within_safe1</td>\n",
       "      <td>new_obs/object_644.jpg</td>\n",
       "      <td>...</td>\n",
       "      <td>NaN</td>\n",
       "      <td>1.0</td>\n",
       "      <td>75.0</td>\n",
       "      <td>2023-10-17_17h29.12.301</td>\n",
       "      <td>temp_dist2.py</td>\n",
       "      <td>2022.2.1</td>\n",
       "      <td>60.188462</td>\n",
       "      <td>NaN</td>\n",
       "      <td>2</td>\n",
       "      <td>NaN</td>\n",
       "    </tr>\n",
       "    <tr>\n",
       "      <th>35</th>\n",
       "      <td>13.0</td>\n",
       "      <td>THREAT</td>\n",
       "      <td>None</td>\n",
       "      <td>5.0</td>\n",
       "      <td>None</td>\n",
       "      <td>0.0</td>\n",
       "      <td>None</td>\n",
       "      <td>Scenes_selected/scene_093.jpeg</td>\n",
       "      <td>across_threat1</td>\n",
       "      <td>new_obs/object_107.jpg</td>\n",
       "      <td>...</td>\n",
       "      <td>NaN</td>\n",
       "      <td>1.0</td>\n",
       "      <td>75.0</td>\n",
       "      <td>2023-10-17_17h29.12.301</td>\n",
       "      <td>temp_dist2.py</td>\n",
       "      <td>2022.2.1</td>\n",
       "      <td>60.188462</td>\n",
       "      <td>NaN</td>\n",
       "      <td>2</td>\n",
       "      <td>NaN</td>\n",
       "    </tr>\n",
       "    <tr>\n",
       "      <th>36</th>\n",
       "      <td>15.0</td>\n",
       "      <td>SAFE</td>\n",
       "      <td>None</td>\n",
       "      <td>5.0</td>\n",
       "      <td>None</td>\n",
       "      <td>0.0</td>\n",
       "      <td>None</td>\n",
       "      <td>Scenes_selected/scene_055.jpg</td>\n",
       "      <td>across_safe1</td>\n",
       "      <td>new_obs/1_327.jpg</td>\n",
       "      <td>...</td>\n",
       "      <td>NaN</td>\n",
       "      <td>1.0</td>\n",
       "      <td>75.0</td>\n",
       "      <td>2023-10-17_17h29.12.301</td>\n",
       "      <td>temp_dist2.py</td>\n",
       "      <td>2022.2.1</td>\n",
       "      <td>60.188462</td>\n",
       "      <td>NaN</td>\n",
       "      <td>2</td>\n",
       "      <td>NaN</td>\n",
       "    </tr>\n",
       "  </tbody>\n",
       "</table>\n",
       "<p>70 rows × 58 columns</p>\n",
       "</div>"
      ],
      "text/plain": [
       "    context_num context_type context_shock  cntxt_trialnum shock_object   us  \\\n",
       "3           7.0       THREAT          None             2.0         None  0.0   \n",
       "4           5.0         SAFE          None             5.0         None  0.0   \n",
       "5          13.0       THREAT          None             5.0         None  0.0   \n",
       "6          14.0         SAFE          None             5.0         None  0.0   \n",
       "7           3.0         SAFE          post             5.0         None  0.0   \n",
       "..          ...          ...           ...             ...          ...  ...   \n",
       "32          1.0         SAFE          None             2.0         None  0.0   \n",
       "33          0.0       THREAT          None             5.0         None  0.0   \n",
       "34          4.0         SAFE         prior             2.0         None  0.0   \n",
       "35         13.0       THREAT          None             5.0         None  0.0   \n",
       "36         15.0         SAFE          None             5.0         None  0.0   \n",
       "\n",
       "   shock_time                   contexts_pics       condition  \\\n",
       "3        None   Scenes_selected/scene_043.jpg  within_threat1   \n",
       "4        None   Scenes_selected/scene_006.jpg    across_safe1   \n",
       "5        None   Scenes_selected/scene_004.jpg  across_threat1   \n",
       "6        None   Scenes_selected/scene_065.jpg    across_safe1   \n",
       "7        None   Scenes_selected/scene_064.jpg    across_safe1   \n",
       "..        ...                             ...             ...   \n",
       "32       None  Scenes_selected/scene_018.jpeg    within_safe1   \n",
       "33       None   Scenes_selected/scene_011.jpg  across_threat1   \n",
       "34       None  Scenes_selected/scene_072.jpeg    within_safe1   \n",
       "35       None  Scenes_selected/scene_093.jpeg  across_threat1   \n",
       "36       None   Scenes_selected/scene_055.jpg    across_safe1   \n",
       "\n",
       "              objects_pics  ...  text_4_started session participant  \\\n",
       "3        new_obs/1_312.jpg  ...             NaN     1.0        75.0   \n",
       "4        new_obs/1_270.jpg  ...             NaN     1.0        75.0   \n",
       "5        new_obs/1_533.jpg  ...             NaN     1.0        75.0   \n",
       "6   new_obs/object_168.jpg  ...             NaN     1.0        75.0   \n",
       "7        new_obs/1_354.jpg  ...             NaN     1.0        75.0   \n",
       "..                     ...  ...             ...     ...         ...   \n",
       "32  new_obs/object_271.jpg  ...             NaN     1.0        75.0   \n",
       "33       new_obs/1_231.jpg  ...             NaN     1.0        75.0   \n",
       "34  new_obs/object_644.jpg  ...             NaN     1.0        75.0   \n",
       "35  new_obs/object_107.jpg  ...             NaN     1.0        75.0   \n",
       "36       new_obs/1_327.jpg  ...             NaN     1.0        75.0   \n",
       "\n",
       "                       date        expName  psychopyVersion  frameRate  \\\n",
       "3   2023-10-17_17h08.29.780   temp_dist.py         2022.2.1  59.949199   \n",
       "4   2023-10-17_17h08.29.780   temp_dist.py         2022.2.1  59.949199   \n",
       "5   2023-10-17_17h08.29.780   temp_dist.py         2022.2.1  59.949199   \n",
       "6   2023-10-17_17h08.29.780   temp_dist.py         2022.2.1  59.949199   \n",
       "7   2023-10-17_17h08.29.780   temp_dist.py         2022.2.1  59.949199   \n",
       "..                      ...            ...              ...        ...   \n",
       "32  2023-10-17_17h29.12.301  temp_dist2.py         2022.2.1  60.188462   \n",
       "33  2023-10-17_17h29.12.301  temp_dist2.py         2022.2.1  60.188462   \n",
       "34  2023-10-17_17h29.12.301  temp_dist2.py         2022.2.1  60.188462   \n",
       "35  2023-10-17_17h29.12.301  temp_dist2.py         2022.2.1  60.188462   \n",
       "36  2023-10-17_17h29.12.301  temp_dist2.py         2022.2.1  60.188462   \n",
       "\n",
       "   Unnamed: 55 run_num Unnamed: 51  \n",
       "3          NaN       1         NaN  \n",
       "4          NaN       1         NaN  \n",
       "5          NaN       1         NaN  \n",
       "6          NaN       1         NaN  \n",
       "7          NaN       1         NaN  \n",
       "..         ...     ...         ...  \n",
       "32         NaN       2         NaN  \n",
       "33         NaN       2         NaN  \n",
       "34         NaN       2         NaN  \n",
       "35         NaN       2         NaN  \n",
       "36         NaN       2         NaN  \n",
       "\n",
       "[70 rows x 58 columns]"
      ]
     },
     "execution_count": 684,
     "metadata": {},
     "output_type": "execute_result"
    }
   ],
   "source": [
    "allTD_df"
   ]
  },
  {
   "cell_type": "code",
   "execution_count": 685,
   "metadata": {},
   "outputs": [],
   "source": [
    "very_close = []\n",
    "close = []\n",
    "far = []\n",
    "very_far = []\n",
    "\n",
    "dt = pd.read_csv(pt_dt+\"%s_pt2runs.csv\"%pt_num)"
   ]
  },
  {
   "cell_type": "code",
   "execution_count": 686,
   "metadata": {},
   "outputs": [],
   "source": [
    "shrt_df = pd.DataFrame({ \n",
    "                        'contxt1': dt.context_type,\n",
    "                        'contxt2': dt.context_type2,\n",
    "                        'context_shock':dt.context_shock,\n",
    "                        'context_shock2':dt.context_shock2,\n",
    "                        'cond1': dt.condition,\n",
    "                        'cond2': dt.condition2,\n",
    "                        'resp': dt.key_resp_keys,\n",
    "                        'rt': dt.key_resp_rt})"
   ]
  },
  {
   "cell_type": "code",
   "execution_count": 687,
   "metadata": {},
   "outputs": [],
   "source": [
    "within_TT = []\n",
    "within_SS = []\n",
    "\n",
    "across_TT = []\n",
    "across_TS = []\n",
    "across_ST = []\n",
    "across_SS = []\n",
    "\n",
    "rt_within_TT = []\n",
    "rt_within_SS = []\n",
    "\n",
    "rt_across_TT = []\n",
    "rt_across_TS = []\n",
    "rt_across_ST = []\n",
    "rt_across_SS = []\n",
    "\n",
    "for index, row in shrt_df.iterrows():\n",
    "    resp_dt = shrt_df.resp\n",
    "    resp_rt = shrt_df.rt\n",
    "    if shrt_df.cond1[index] == 'within_threat1' and shrt_df.cond2[index] == 'within_threat2':\n",
    "        within_TT.append(resp_dt[index])\n",
    "        rt_within_TT.append(resp_rt[index])\n",
    "        \n",
    "    if shrt_df.cond1[index] == 'within_safe1' and shrt_df.cond2[index] == 'within_safe2':\n",
    "        within_SS.append(resp_dt[index])\n",
    "        rt_within_SS.append(resp_rt[index])\n",
    "        \n",
    "for index, row in shrt_df.iterrows():\n",
    "    resp_dt = shrt_df.resp\n",
    "    resp_rt = shrt_df.rt\n",
    "    if shrt_df.cond1[index] == 'across_threat1' and shrt_df.cond2[index] == 'across_threat2' and shrt_df.context_shock[index] != 'prior' and shrt_df.context_shock2[index] != 'post':\n",
    "        across_TT.append(resp_dt[index])\n",
    "        rt_across_TT.append(resp_rt[index])\n",
    "        \n",
    "    if shrt_df.cond1[index] == 'across_threat1' and shrt_df.cond2[index] == 'across_safe2' and shrt_df.context_shock[index] != 'prior' and shrt_df.context_shock2[index] != 'post':\n",
    "        across_TS.append(resp_dt[index])\n",
    "        rt_across_TS.append(resp_rt[index])\n",
    "        \n",
    "    if shrt_df.cond1[index] == 'across_safe1' and shrt_df.cond2[index] == 'across_threat2' and shrt_df.context_shock[index] != 'prior' and shrt_df.context_shock2[index] != 'post':\n",
    "        across_ST.append(resp_dt[index])\n",
    "        rt_across_ST.append(resp_rt[index])\n",
    "    \n",
    "    if shrt_df.cond1[index] == 'across_safe1' and shrt_df.cond2[index] == 'across_safe2' and shrt_df.context_shock[index] != 'prior' and shrt_df.context_shock2[index] != 'post':\n",
    "        across_SS.append(resp_dt[index])\n",
    "        rt_across_SS.append(resp_rt[index])"
   ]
  },
  {
   "cell_type": "code",
   "execution_count": 688,
   "metadata": {},
   "outputs": [
    {
     "data": {
      "text/plain": [
       "8"
      ]
     },
     "execution_count": 688,
     "metadata": {},
     "output_type": "execute_result"
    }
   ],
   "source": [
    "len(across_ST)"
   ]
  },
  {
   "cell_type": "code",
   "execution_count": 689,
   "metadata": {},
   "outputs": [],
   "source": [
    "SSwithin_close = []\n",
    "SSwithin_far = []\n",
    "\n",
    "TTwithin_close = []\n",
    "TTwithin_far = []\n",
    "\n",
    "for a in within_SS:\n",
    "    if a == 1 or a == 2:\n",
    "        SSwithin_close.append(1)\n",
    "    if a == 3 or a == 4:\n",
    "        SSwithin_far.append(0)\n",
    "        \n",
    "for a in within_TT:\n",
    "    if a == 1 or a == 2:\n",
    "        TTwithin_close.append(1)\n",
    "    if a == 3 or a == 4:\n",
    "        TTwithin_far.append(0)"
   ]
  },
  {
   "cell_type": "code",
   "execution_count": 690,
   "metadata": {},
   "outputs": [],
   "source": [
    "SSacross_close = []\n",
    "SSacross_far = []\n",
    "\n",
    "STacross_close = []\n",
    "STacross_far = []\n",
    "\n",
    "TSacross_close = []\n",
    "TSacross_far = []\n",
    "\n",
    "TTacross_close = []\n",
    "TTacross_far = []\n",
    "\n",
    "for c in across_SS:\n",
    "    if c == 1 or c == 2:\n",
    "        SSacross_close.append(1)\n",
    "    if c == 3 or c == 4:\n",
    "        SSacross_far.append(0)\n",
    "        \n",
    "for c in across_TT:\n",
    "    if c == 1 or c == 2:\n",
    "        TTacross_close.append(1)\n",
    "    if c == 3 or c == 4:\n",
    "        TTacross_far.append(0)\n",
    "        \n",
    "for c in across_ST:\n",
    "    if c == 1 or c == 2:\n",
    "        STacross_close.append(1)\n",
    "    if c == 3 or c == 4:\n",
    "        STacross_far.append(0)\n",
    "        \n",
    "for c in across_TS:\n",
    "    if c == 1 or c == 2:\n",
    "        TSacross_close.append(1)\n",
    "    if c == 3 or c == 4:\n",
    "        TSacross_far.append(0)\n"
   ]
  },
  {
   "cell_type": "code",
   "execution_count": 691,
   "metadata": {},
   "outputs": [
    {
     "data": {
      "text/plain": [
       "18"
      ]
     },
     "execution_count": 691,
     "metadata": {},
     "output_type": "execute_result"
    }
   ],
   "source": [
    "len(within_TT)"
   ]
  },
  {
   "cell_type": "code",
   "execution_count": 692,
   "metadata": {},
   "outputs": [],
   "source": [
    "SSwithin_bias = (sum(SSwithin_close))/(len(within_SS))\n",
    "all_SSwithin_bias.append(SSwithin_bias)\n",
    "TTwithin_bias = (sum(TTwithin_close))/(len(within_TT))\n",
    "all_TTwithin_bias.append(TTwithin_bias)\n",
    "\n",
    "SSacross_bias = (sum(SSacross_close))/(len(across_SS))\n",
    "all_SSacross_bias.append(SSacross_bias)\n",
    "STacross_bias = (sum(STacross_close))/(len(across_ST))\n",
    "all_STacross_bias.append(STacross_bias)\n",
    "TSacross_bias = (sum(TSacross_close))/(len(across_TS))\n",
    "all_TSacross_bias.append(TSacross_bias)\n",
    "TTacross_bias = (sum(TTacross_close))/(len(across_TT))\n",
    "all_TTacross_bias.append(TTacross_bias)"
   ]
  },
  {
   "cell_type": "code",
   "execution_count": 693,
   "metadata": {},
   "outputs": [
    {
     "data": {
      "text/plain": [
       "0.75"
      ]
     },
     "execution_count": 693,
     "metadata": {},
     "output_type": "execute_result"
    }
   ],
   "source": [
    "TTacross_bias"
   ]
  },
  {
   "cell_type": "markdown",
   "metadata": {},
   "source": [
    "### rep_graph"
   ]
  },
  {
   "cell_type": "code",
   "execution_count": 694,
   "metadata": {},
   "outputs": [],
   "source": [
    "W_safe_bias = np.mean(all_SSwithin_bias)\n",
    "W_threat_bias = np.mean(all_TTwithin_bias)\n",
    "A_safe_bias = np.mean(all_SSacross_bias)\n",
    "A_threat_bias = np.mean(all_TTacross_bias)"
   ]
  },
  {
   "cell_type": "code",
   "execution_count": 695,
   "metadata": {},
   "outputs": [
    {
     "name": "stdout",
     "output_type": "stream",
     "text": [
      "0.5833524442915567\n",
      "0.6457330008026603\n",
      "0.3958333333333333\n",
      "0.3784722222222222\n"
     ]
    }
   ],
   "source": [
    "print(W_safe_bias)\n",
    "print(W_threat_bias)\n",
    "print(A_safe_bias)\n",
    "print(A_threat_bias)"
   ]
  },
  {
   "cell_type": "code",
   "execution_count": 696,
   "metadata": {},
   "outputs": [
    {
     "data": {
      "text/plain": [
       "Text(0.5, 1.0, '75.0_Within context temporal bias')"
      ]
     },
     "execution_count": 696,
     "metadata": {},
     "output_type": "execute_result"
    },
    {
     "data": {
      "image/png": "[encoded data removed]",
      "text/plain": [
       "<Figure size 432x288 with 1 Axes>"
      ]
     },
     "metadata": {
      "needs_background": "light"
     },
     "output_type": "display_data"
    }
   ],
   "source": [
    "x = ['Within-S', 'Across-S','Within-T', 'Across-T']\n",
    "y = [W_safe_bias, A_safe_bias, W_threat_bias, A_threat_bias]\n",
    "plt.bar(x, y, width=0.8, bottom=None, color = ['mediumseagreen','dodgerblue', 'cyan','slateblue'], align='center', data=None)\n",
    "plt.ylim(0, 1)\n",
    "plt.xlabel(\"Safe                          Threat\", fontsize = \"x-large\")\n",
    "plt.xticks(fontsize = \"x-large\")\n",
    "plt.ylabel(\"Close-bias\", fontsize = \"x-large\")\n",
    "plt.yticks(fontsize = \"x-large\")\n",
    "plt.title(\"%s_Within context temporal bias\"%pt_num, fontsize = \"x-large\")"
   ]
  },
  {
   "cell_type": "code",
   "execution_count": 697,
   "metadata": {},
   "outputs": [],
   "source": [
    "binarydf = pd.DataFrame({\"Safe_within_bias\":all_SSwithin_bias,\n",
    "                          \"Threat_within_bias\":all_TTwithin_bias,\n",
    "                         \"SS_across_bias\":all_SSacross_bias,\n",
    "                         \"ST_across_bias\":all_STacross_bias,\n",
    "                         \"TS_across_bias\":all_TSacross_bias,\n",
    "                         \"TT_across_bias\":all_TTacross_bias})\n",
    "binarydf.to_csv(pt_dt+\"2runs_binary_bias.csv\", index = True, header = True )"
   ]
  },
  {
   "cell_type": "code",
   "execution_count": null,
   "metadata": {},
   "outputs": [],
   "source": []
  }
 ],
 "metadata": {
  "kernelspec": {
   "display_name": "Python 3",
   "language": "python",
   "name": "python3"
  },
  "language_info": {
   "codemirror_mode": {
    "name": "ipython",
    "version": 3
   },
   "file_extension": ".py",
   "mimetype": "text/x-python",
   "name": "python",
   "nbconvert_exporter": "python",
   "pygments_lexer": "ipython3",
   "version": "3.8.5"
  }
 },
 "nbformat": 4,
 "nbformat_minor": 4
}
