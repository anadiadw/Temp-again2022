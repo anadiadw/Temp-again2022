{
 "cells": [
  {
   "cell_type": "markdown",
   "metadata": {},
   "source": [
    "## Only to run once during one session"
   ]
  },
  {
   "cell_type": "code",
   "execution_count": 17,
   "metadata": {},
   "outputs": [],
   "source": [
    "## importing all libraries and dependencies\n",
    "import pandas as pd\n",
    "import numpy as np\n",
    "import os\n",
    "from os import listdir\n",
    "import glob\n",
    "from os.path import isfile, join\n",
    "import shutil\n",
    "import PIL\n",
    "from PIL import Image\n",
    "import random\n",
    "import math\n",
    "from heapq import merge\n",
    "from random import *\n",
    "import scipy as sp\n",
    "from scipy import stats\n",
    "import seaborn as sns\n",
    "from matplotlib import pyplot as plt"
   ]
  },
  {
   "cell_type": "code",
   "execution_count": 18,
   "metadata": {},
   "outputs": [],
   "source": [
    "opp_SM = []\n",
    "sam_SM = []\n",
    "S_sam_SM = []\n",
    "T_sam_SM = []\n",
    "S_opp_SM = []\n",
    "T_opp_SM = []"
   ]
  },
  {
   "cell_type": "code",
   "execution_count": 19,
   "metadata": {},
   "outputs": [],
   "source": [
    "sum_dir = '/Users/ayesh/Desktop/Gradstuff/Temp_mem2022/SCL_final/summary_behav/'\n",
    "dir_ext = [f for f in listdir(sum_dir)]\n",
    "pt_dir_lst = []\n",
    "for i in dir_ext:\n",
    "    pt_dir = sum_dir + i\n",
    "    pt_dir_lst.append(pt_dir)"
   ]
  },
  {
   "cell_type": "code",
   "execution_count": 20,
   "metadata": {},
   "outputs": [
    {
     "data": {
      "text/plain": [
       "['/Users/ayesh/Desktop/Gradstuff/Temp_mem2022/SCL_final/summary_behav/2ndSM',\n",
       " '/Users/ayesh/Desktop/Gradstuff/Temp_mem2022/SCL_final/summary_behav/32.0_ptSM_summary.csv',\n",
       " '/Users/ayesh/Desktop/Gradstuff/Temp_mem2022/SCL_final/summary_behav/32.0_ptsummary.csv',\n",
       " '/Users/ayesh/Desktop/Gradstuff/Temp_mem2022/SCL_final/summary_behav/34.0_ptSM_summary.csv',\n",
       " '/Users/ayesh/Desktop/Gradstuff/Temp_mem2022/SCL_final/summary_behav/34.0_ptsummary.csv',\n",
       " '/Users/ayesh/Desktop/Gradstuff/Temp_mem2022/SCL_final/summary_behav/35.0_ptSM_summary.csv',\n",
       " '/Users/ayesh/Desktop/Gradstuff/Temp_mem2022/SCL_final/summary_behav/35.0_ptsummary.csv',\n",
       " '/Users/ayesh/Desktop/Gradstuff/Temp_mem2022/SCL_final/summary_behav/36.0_ptSM_summary.csv',\n",
       " '/Users/ayesh/Desktop/Gradstuff/Temp_mem2022/SCL_final/summary_behav/36.0_ptsummary.csv',\n",
       " '/Users/ayesh/Desktop/Gradstuff/Temp_mem2022/SCL_final/summary_behav/37.0_ptSM_summary.csv',\n",
       " '/Users/ayesh/Desktop/Gradstuff/Temp_mem2022/SCL_final/summary_behav/37.0_ptsummary.csv',\n",
       " '/Users/ayesh/Desktop/Gradstuff/Temp_mem2022/SCL_final/summary_behav/38.0_ptSM_summary.csv',\n",
       " '/Users/ayesh/Desktop/Gradstuff/Temp_mem2022/SCL_final/summary_behav/38.0_ptsummary.csv',\n",
       " '/Users/ayesh/Desktop/Gradstuff/Temp_mem2022/SCL_final/summary_behav/39.0_ptSM_summary.csv',\n",
       " '/Users/ayesh/Desktop/Gradstuff/Temp_mem2022/SCL_final/summary_behav/39.0_ptsummary.csv',\n",
       " '/Users/ayesh/Desktop/Gradstuff/Temp_mem2022/SCL_final/summary_behav/41.0_ptSM_summary.csv',\n",
       " '/Users/ayesh/Desktop/Gradstuff/Temp_mem2022/SCL_final/summary_behav/41.0_ptsummary.csv',\n",
       " '/Users/ayesh/Desktop/Gradstuff/Temp_mem2022/SCL_final/summary_behav/42.0_ptSM_summary.csv',\n",
       " '/Users/ayesh/Desktop/Gradstuff/Temp_mem2022/SCL_final/summary_behav/42.0_ptsummary.csv',\n",
       " '/Users/ayesh/Desktop/Gradstuff/Temp_mem2022/SCL_final/summary_behav/43.0_ptSM_summary.csv',\n",
       " '/Users/ayesh/Desktop/Gradstuff/Temp_mem2022/SCL_final/summary_behav/43.0_ptsummary.csv',\n",
       " '/Users/ayesh/Desktop/Gradstuff/Temp_mem2022/SCL_final/summary_behav/45.0_ptSM_summary.csv',\n",
       " '/Users/ayesh/Desktop/Gradstuff/Temp_mem2022/SCL_final/summary_behav/45.0_ptsummary.csv',\n",
       " '/Users/ayesh/Desktop/Gradstuff/Temp_mem2022/SCL_final/summary_behav/46.0_ptSM_summary.csv',\n",
       " '/Users/ayesh/Desktop/Gradstuff/Temp_mem2022/SCL_final/summary_behav/46.0_ptsummary.csv',\n",
       " '/Users/ayesh/Desktop/Gradstuff/Temp_mem2022/SCL_final/summary_behav/47.0_ptSM_summary.csv',\n",
       " '/Users/ayesh/Desktop/Gradstuff/Temp_mem2022/SCL_final/summary_behav/47.0_ptsummary.csv',\n",
       " '/Users/ayesh/Desktop/Gradstuff/Temp_mem2022/SCL_final/summary_behav/48.0_ptSM_summary.csv',\n",
       " '/Users/ayesh/Desktop/Gradstuff/Temp_mem2022/SCL_final/summary_behav/48.0_ptsummary.csv',\n",
       " '/Users/ayesh/Desktop/Gradstuff/Temp_mem2022/SCL_final/summary_behav/49.0_ptSM_summary.csv',\n",
       " '/Users/ayesh/Desktop/Gradstuff/Temp_mem2022/SCL_final/summary_behav/49.0_ptsummary.csv',\n",
       " '/Users/ayesh/Desktop/Gradstuff/Temp_mem2022/SCL_final/summary_behav/50.0_ptSM_summary.csv',\n",
       " '/Users/ayesh/Desktop/Gradstuff/Temp_mem2022/SCL_final/summary_behav/50.0_ptsummary.csv',\n",
       " '/Users/ayesh/Desktop/Gradstuff/Temp_mem2022/SCL_final/summary_behav/51.0_ptSM_summary.csv',\n",
       " '/Users/ayesh/Desktop/Gradstuff/Temp_mem2022/SCL_final/summary_behav/51.0_ptsummary.csv',\n",
       " '/Users/ayesh/Desktop/Gradstuff/Temp_mem2022/SCL_final/summary_behav/52.0_ptSM_summary.csv',\n",
       " '/Users/ayesh/Desktop/Gradstuff/Temp_mem2022/SCL_final/summary_behav/52.0_ptsummary.csv',\n",
       " '/Users/ayesh/Desktop/Gradstuff/Temp_mem2022/SCL_final/summary_behav/53.0_ptSM_summary.csv',\n",
       " '/Users/ayesh/Desktop/Gradstuff/Temp_mem2022/SCL_final/summary_behav/53.0_ptsummary.csv',\n",
       " '/Users/ayesh/Desktop/Gradstuff/Temp_mem2022/SCL_final/summary_behav/54.0_ptSM_summary.csv',\n",
       " '/Users/ayesh/Desktop/Gradstuff/Temp_mem2022/SCL_final/summary_behav/54.0_ptsummary.csv',\n",
       " '/Users/ayesh/Desktop/Gradstuff/Temp_mem2022/SCL_final/summary_behav/56.0_ptSM_summary.csv',\n",
       " '/Users/ayesh/Desktop/Gradstuff/Temp_mem2022/SCL_final/summary_behav/56.0_ptsummary.csv',\n",
       " '/Users/ayesh/Desktop/Gradstuff/Temp_mem2022/SCL_final/summary_behav/57.0_ptSM_summary.csv',\n",
       " '/Users/ayesh/Desktop/Gradstuff/Temp_mem2022/SCL_final/summary_behav/57.0_ptsummary.csv',\n",
       " '/Users/ayesh/Desktop/Gradstuff/Temp_mem2022/SCL_final/summary_behav/58.0_ptSM_summary.csv',\n",
       " '/Users/ayesh/Desktop/Gradstuff/Temp_mem2022/SCL_final/summary_behav/58.0_ptsummary.csv',\n",
       " '/Users/ayesh/Desktop/Gradstuff/Temp_mem2022/SCL_final/summary_behav/59.0_ptSM_summary.csv',\n",
       " '/Users/ayesh/Desktop/Gradstuff/Temp_mem2022/SCL_final/summary_behav/59.0_ptsummary.csv',\n",
       " '/Users/ayesh/Desktop/Gradstuff/Temp_mem2022/SCL_final/summary_behav/60.0_ptSM_summary.csv',\n",
       " '/Users/ayesh/Desktop/Gradstuff/Temp_mem2022/SCL_final/summary_behav/60.0_ptsummary.csv',\n",
       " '/Users/ayesh/Desktop/Gradstuff/Temp_mem2022/SCL_final/summary_behav/63.0_ptSM_summary.csv',\n",
       " '/Users/ayesh/Desktop/Gradstuff/Temp_mem2022/SCL_final/summary_behav/63.0_ptsummary.csv',\n",
       " '/Users/ayesh/Desktop/Gradstuff/Temp_mem2022/SCL_final/summary_behav/64.0_ptSM_summary.csv',\n",
       " '/Users/ayesh/Desktop/Gradstuff/Temp_mem2022/SCL_final/summary_behav/64.0_ptsummary.csv',\n",
       " '/Users/ayesh/Desktop/Gradstuff/Temp_mem2022/SCL_final/summary_behav/65.0_ptSM_summary.csv',\n",
       " '/Users/ayesh/Desktop/Gradstuff/Temp_mem2022/SCL_final/summary_behav/65.0_ptsummary.csv',\n",
       " '/Users/ayesh/Desktop/Gradstuff/Temp_mem2022/SCL_final/summary_behav/66.0_ptSM_summary.csv',\n",
       " '/Users/ayesh/Desktop/Gradstuff/Temp_mem2022/SCL_final/summary_behav/66.0_ptsummary.csv',\n",
       " '/Users/ayesh/Desktop/Gradstuff/Temp_mem2022/SCL_final/summary_behav/67.0_ptSM_summary.csv',\n",
       " '/Users/ayesh/Desktop/Gradstuff/Temp_mem2022/SCL_final/summary_behav/67.0_ptsummary.csv',\n",
       " '/Users/ayesh/Desktop/Gradstuff/Temp_mem2022/SCL_final/summary_behav/70.0_ptSM_summary.csv',\n",
       " '/Users/ayesh/Desktop/Gradstuff/Temp_mem2022/SCL_final/summary_behav/70.0_ptsummary.csv',\n",
       " '/Users/ayesh/Desktop/Gradstuff/Temp_mem2022/SCL_final/summary_behav/71.0_ptSM_summary.csv',\n",
       " '/Users/ayesh/Desktop/Gradstuff/Temp_mem2022/SCL_final/summary_behav/71.0_ptsummary.csv',\n",
       " '/Users/ayesh/Desktop/Gradstuff/Temp_mem2022/SCL_final/summary_behav/72.0_ptSM_summary.csv',\n",
       " '/Users/ayesh/Desktop/Gradstuff/Temp_mem2022/SCL_final/summary_behav/72.0_ptsummary.csv',\n",
       " '/Users/ayesh/Desktop/Gradstuff/Temp_mem2022/SCL_final/summary_behav/73.0_ptSM_summary.csv',\n",
       " '/Users/ayesh/Desktop/Gradstuff/Temp_mem2022/SCL_final/summary_behav/73.0_ptsummary.csv',\n",
       " '/Users/ayesh/Desktop/Gradstuff/Temp_mem2022/SCL_final/summary_behav/74.0_ptsummary.csv',\n",
       " '/Users/ayesh/Desktop/Gradstuff/Temp_mem2022/SCL_final/summary_behav/75.0_ptSM_summary.csv',\n",
       " '/Users/ayesh/Desktop/Gradstuff/Temp_mem2022/SCL_final/summary_behav/75.0_ptsummary.csv',\n",
       " '/Users/ayesh/Desktop/Gradstuff/Temp_mem2022/SCL_final/summary_behav/allsummary2_finl.csv',\n",
       " '/Users/ayesh/Desktop/Gradstuff/Temp_mem2022/SCL_final/summary_behav/SMsummary_finalbatch.csv']"
      ]
     },
     "execution_count": 20,
     "metadata": {},
     "output_type": "execute_result"
    }
   ],
   "source": [
    "pt_dir_lst"
   ]
  },
  {
   "cell_type": "code",
   "execution_count": 21,
   "metadata": {},
   "outputs": [],
   "source": [
    "tempdist_files = []\n",
    "srcmem_files = []\n",
    "\n",
    "for a in pt_dir_lst:\n",
    "    if a[-4:] == '.csv' and '0_ptsummary' in a:\n",
    "        tempdist_files.append(a)\n",
    "    if a[-4:] == '.csv' and '0_ptSM_summary' in a:\n",
    "        srcmem_files.append(a)"
   ]
  },
  {
   "cell_type": "markdown",
   "metadata": {},
   "source": [
    "## For each participant"
   ]
  },
  {
   "cell_type": "code",
   "execution_count": 22,
   "metadata": {},
   "outputs": [],
   "source": [
    "pt_num = '32.0'\n",
    "for s in srcmem_files:\n",
    "    pt_num_src = s[-21:-17]\n",
    "    if pt_num_src == pt_num:\n",
    "        sr = pd.read_csv(s)\n",
    "                \n",
    "src_df = pd.DataFrame(sr)\n",
    "src_incorr = src_df.loc[src_df['key_resp_corr'] == 0]"
   ]
  },
  {
   "cell_type": "code",
   "execution_count": 23,
   "metadata": {},
   "outputs": [
    {
     "data": {
      "text/plain": [
       "0      3.0\n",
       "10     2.0\n",
       "16     1.0\n",
       "17     3.0\n",
       "24     1.0\n",
       "      ... \n",
       "524    1.0\n",
       "529    3.0\n",
       "532    3.0\n",
       "536    1.0\n",
       "538    2.0\n",
       "Name: key_resp_keys, Length: 100, dtype: float64"
      ]
     },
     "execution_count": 23,
     "metadata": {},
     "output_type": "execute_result"
    }
   ],
   "source": [
    "src_incorr.key_resp_keys"
   ]
  },
  {
   "cell_type": "code",
   "execution_count": 24,
   "metadata": {},
   "outputs": [],
   "source": [
    "for index, row in src_incorr.iterrows():\n",
    "    if src_incorr.key_resp_keys[index] == src_incorr.samekey[index] and src_incorr.tested_valence[index] == 'SAFE':\n",
    "        sam_SM.append(row)\n",
    "        S_sam_SM.append(row)\n",
    "    if src_incorr.key_resp_keys[index] == src_incorr.samekey[index] and src_incorr.tested_valence[index] == 'THREAT':\n",
    "        sam_SM.append(row)\n",
    "        T_sam_SM.append(row)\n",
    "    if src_incorr.key_resp_keys[index] == src_incorr.oppkey[index] and src_incorr.tested_valence[index] == 'SAFE':\n",
    "        opp_SM.append(row)\n",
    "        S_opp_SM.append(row)\n",
    "    if src_incorr.key_resp_keys[index] == src_incorr.oppkey[index] and src_incorr.tested_valence[index] == 'SAFE':\n",
    "        opp_SM.append(row)\n",
    "        S_opp_SM.append(row)"
   ]
  },
  {
   "cell_type": "code",
   "execution_count": 25,
   "metadata": {},
   "outputs": [
    {
     "name": "stdout",
     "output_type": "stream",
     "text": [
      "55\n",
      "50\n"
     ]
    }
   ],
   "source": [
    "print(len(sam_SM))\n",
    "print(len(opp_SM))"
   ]
  },
  {
   "cell_type": "code",
   "execution_count": 26,
   "metadata": {},
   "outputs": [
    {
     "name": "stdout",
     "output_type": "stream",
     "text": [
      "27\n",
      "28\n",
      "50\n",
      "0\n"
     ]
    }
   ],
   "source": [
    "print(len(S_sam_SM))\n",
    "print(len(T_sam_SM))\n",
    "print(len(S_opp_SM))\n",
    "print(len(T_opp_SM))"
   ]
  },
  {
   "cell_type": "code",
   "execution_count": 27,
   "metadata": {},
   "outputs": [
    {
     "ename": "NameError",
     "evalue": "name 'allSM_df' is not defined",
     "output_type": "error",
     "traceback": [
      "\u001b[1;31m---------------------------------------------------------------------------\u001b[0m",
      "\u001b[1;31mNameError\u001b[0m                                 Traceback (most recent call last)",
      "\u001b[1;32m<ipython-input-27-52ede24a6521>\u001b[0m in \u001b[0;36m<module>\u001b[1;34m\u001b[0m\n\u001b[1;32m----> 1\u001b[1;33m \u001b[0mSr1\u001b[0m\u001b[1;33m=\u001b[0m \u001b[1;33m(\u001b[0m\u001b[0mallSM_df\u001b[0m\u001b[1;33m[\u001b[0m\u001b[1;34m'run_num'\u001b[0m\u001b[1;33m]\u001b[0m \u001b[1;33m==\u001b[0m \u001b[1;34m'1'\u001b[0m\u001b[1;33m)\u001b[0m \u001b[1;33m&\u001b[0m \u001b[1;33m(\u001b[0m\u001b[0mallSM_df\u001b[0m\u001b[1;33m[\u001b[0m\u001b[1;34m'tested_valence'\u001b[0m\u001b[1;33m]\u001b[0m \u001b[1;33m==\u001b[0m \u001b[1;34m'SAFE'\u001b[0m\u001b[1;33m)\u001b[0m\u001b[1;33m\u001b[0m\u001b[1;33m\u001b[0m\u001b[0m\n\u001b[0m\u001b[0;32m      2\u001b[0m \u001b[0mSr1\u001b[0m \u001b[1;33m=\u001b[0m \u001b[0mallSM_df\u001b[0m\u001b[1;33m[\u001b[0m\u001b[0mSr1\u001b[0m\u001b[1;33m]\u001b[0m\u001b[1;33m\u001b[0m\u001b[1;33m\u001b[0m\u001b[0m\n\u001b[0;32m      3\u001b[0m \u001b[0mSr2\u001b[0m\u001b[1;33m=\u001b[0m \u001b[1;33m(\u001b[0m\u001b[0mallSM_df\u001b[0m\u001b[1;33m[\u001b[0m\u001b[1;34m'run_num'\u001b[0m\u001b[1;33m]\u001b[0m \u001b[1;33m==\u001b[0m \u001b[1;34m'2'\u001b[0m\u001b[1;33m)\u001b[0m \u001b[1;33m&\u001b[0m \u001b[1;33m(\u001b[0m\u001b[0mallSM_df\u001b[0m\u001b[1;33m[\u001b[0m\u001b[1;34m'tested_valence'\u001b[0m\u001b[1;33m]\u001b[0m \u001b[1;33m==\u001b[0m \u001b[1;34m'SAFE'\u001b[0m\u001b[1;33m)\u001b[0m\u001b[1;33m\u001b[0m\u001b[1;33m\u001b[0m\u001b[0m\n\u001b[0;32m      4\u001b[0m \u001b[0mSr2\u001b[0m \u001b[1;33m=\u001b[0m \u001b[0mallSM_df\u001b[0m\u001b[1;33m[\u001b[0m\u001b[0mSr2\u001b[0m\u001b[1;33m]\u001b[0m\u001b[1;33m\u001b[0m\u001b[1;33m\u001b[0m\u001b[0m\n\u001b[0;32m      5\u001b[0m \u001b[0mSr3\u001b[0m\u001b[1;33m=\u001b[0m \u001b[1;33m(\u001b[0m\u001b[0mallSM_df\u001b[0m\u001b[1;33m[\u001b[0m\u001b[1;34m'run_num'\u001b[0m\u001b[1;33m]\u001b[0m \u001b[1;33m==\u001b[0m \u001b[1;34m'3'\u001b[0m\u001b[1;33m)\u001b[0m \u001b[1;33m&\u001b[0m \u001b[1;33m(\u001b[0m\u001b[0mallSM_df\u001b[0m\u001b[1;33m[\u001b[0m\u001b[1;34m'tested_valence'\u001b[0m\u001b[1;33m]\u001b[0m \u001b[1;33m==\u001b[0m \u001b[1;34m'SAFE'\u001b[0m\u001b[1;33m)\u001b[0m\u001b[1;33m\u001b[0m\u001b[1;33m\u001b[0m\u001b[0m\n",
      "\u001b[1;31mNameError\u001b[0m: name 'allSM_df' is not defined"
     ]
    }
   ],
   "source": [
    "Sr1= (allSM_df['run_num'] == '1') & (allSM_df['tested_valence'] == 'SAFE')\n",
    "Sr1 = allSM_df[Sr1]\n",
    "Sr2= (allSM_df['run_num'] == '2') & (allSM_df['tested_valence'] == 'SAFE')\n",
    "Sr2 = allSM_df[Sr2]\n",
    "Sr3= (allSM_df['run_num'] == '3') & (allSM_df['tested_valence'] == 'SAFE')\n",
    "Sr3 = allSM_df[Sr3]\n",
    "Sr4= (allSM_df['run_num'] == '4') & (allSM_df['tested_valence'] == 'SAFE')\n",
    "Sr4 = allSM_df[Sr4]\n",
    "Sr5= (allSM_df['run_num'] == '5') & (allSM_df['tested_valence'] == 'SAFE')\n",
    "Sr5 = allSM_df[Sr5]\n",
    "\n",
    "Tr1= (allSM_df['run_num'] == '1') & (allSM_df['tested_valence'] == 'THREAT')\n",
    "Tr1 = allSM_df[Tr1]\n",
    "Tr2= (allSM_df['run_num'] == '2') & (allSM_df['tested_valence'] == 'THREAT')\n",
    "Tr2 = allSM_df[Tr2]\n",
    "Tr3= (allSM_df['run_num'] == '3') & (allSM_df['tested_valence'] == 'THREAT')\n",
    "Tr3 = allSM_df[Tr3]\n",
    "Tr4= (allSM_df['run_num'] == '4') & (allSM_df['tested_valence'] == 'THREAT')\n",
    "Tr4 = allSM_df[Tr4]\n",
    "Tr5= (allSM_df['run_num'] == '5') & (allSM_df['tested_valence'] == 'THREAT')\n",
    "Tr5 = allSM_df[Tr5]\n",
    "\n",
    "#Sr1src = sum(Sr1.key_resp_corr)/len(Sr1.key_resp_corr)\n",
    "#Sr2src = sum(Sr2.key_resp_corr)/len(Sr2.key_resp_corr)\n",
    "#Sr3src = sum(Sr3.key_resp_corr)/len(Sr3.key_resp_corr)\n",
    "#Sr4src = sum(Sr4.key_resp_corr)/len(Sr4.key_resp_corr)\n",
    "#Sr5src = sum(Sr5.key_resp_corr)/len(Sr5.key_resp_corr)\n",
    "\n",
    "#Tr1src = sum(Tr1.key_resp_corr)/len(Tr1.key_resp_corr)\n",
    "#Tr2src = sum(Tr2.key_resp_corr)/len(Tr2.key_resp_corr)\n",
    "#Tr3src = sum(Tr3.key_resp_corr)/len(Tr3.key_resp_corr)\n",
    "#Tr4src = sum(Tr4.key_resp_corr)/len(Tr4.key_resp_corr)\n",
    "#Tr5src = sum(Tr5.key_resp_corr)/len(Tr5.key_resp_corr)"
   ]
  },
  {
   "cell_type": "code",
   "execution_count": null,
   "metadata": {},
   "outputs": [],
   "source": [
    "safe_runs_src = [Sr1src, Sr2src, Sr3src, Sr4src, Sr5src]\n",
    "threat_runs_src = [Tr1src, Tr2src, Tr3src, Tr4src, Tr5src]\n",
    "\n",
    "print(safe_runs_src, threat_runs_src)\n",
    "\n",
    "allSM_df['safe_runsSM'] = str(safe_runs_src)\n",
    "allSM_df['threat_runsSM'] = str(threat_runs_src)"
   ]
  },
  {
   "cell_type": "code",
   "execution_count": null,
   "metadata": {},
   "outputs": [],
   "source": [
    "pt_dt = 'C:/Users/ayesh/Desktop/Gradstuff/Temp_mem2022/SCL_final/summary_behav/2ndSM/'\n",
    "os.makedirs(pt_dt, exist_ok=True)  \n",
    "allSM_df.to_csv(pt_dt+\"%s_ptSM_summary.csv\"%pt_num, index = True, header = True )"
   ]
  },
  {
   "cell_type": "code",
   "execution_count": null,
   "metadata": {},
   "outputs": [],
   "source": [
    "SMdf_extra = pd.DataFrame({'Mean_accuracy':pt_SM,\n",
    "                     'Mean_safe': safe_pt_SM,\n",
    "                     'Mean_threat': threat_pt_SM,\n",
    "                     'Runs_SM':ls_runSM,\n",
    "                    'Safe_runsSM': safe_ls_runSM,\n",
    "                    'Threat_runsSM': threat_ls_runSM})\n",
    "SMdf.to_csv(pt_dt+\"SMsummary_newfinalbatch.csv\", index = True, header = True)\n",
    "SMdf"
   ]
  },
  {
   "cell_type": "code",
   "execution_count": null,
   "metadata": {},
   "outputs": [],
   "source": [
    "pt_dt = 'C:/Users/ayesh/Desktop/Gradstuff/Temp_mem2022/SCL_final/summary_behav/2ndSM'\n",
    "dt = pd.read_csv(pt_dt+\"%s_ptSM_summary.csv\"%pt_num)"
   ]
  },
  {
   "cell_type": "code",
   "execution_count": null,
   "metadata": {},
   "outputs": [],
   "source": [
    "shrt_df = pd.DataFrame({ \n",
    "                        'tested_valence': dt.tested_valence,\n",
    "                        'same_val': dt.same_val,\n",
    "                        'opp_val':dt.opp_val,\n",
    "                        'resp': dt.key_resp_keys,\n",
    "                        'acc':dt.key_resp_corr,\n",
    "                        'rt': dt.key_resp_rt, \n",
    "                        'runSM': dt.run_sm,\n",
    "                        'allruns': dt.allrun_src,\n",
    "                        'corr_key': dt.corrAns,\n",
    "                        'samekey':dt.samekey,\n",
    "                        'oppkey':dt.oppkey,\n",
    "                        'safe_runsSM': dt.safe_runsSM,\n",
    "                        'threat_runsSM': dt.threat_runsSM})"
   ]
  },
  {
   "cell_type": "code",
   "execution_count": null,
   "metadata": {},
   "outputs": [],
   "source": [
    "srcmem_corr = []\n",
    "srcmem_incor = []\n",
    "srcmem_miss = []\n",
    "\n",
    "safe_srcmem_corr = []\n",
    "safe_srcmem_incor = []\n",
    "safe_srcmem_miss = []\n",
    "\n",
    "threat_srcmem_corr = []\n",
    "threat_srcmem_incor = []\n",
    "threat_srcmem_miss = []\n",
    "\n",
    "all_safe = []\n",
    "all_threat = []\n",
    "\n",
    "\n",
    "for index, row in shrt_df.iterrows():\n",
    "    if shrt_df.acc[index] == 1:\n",
    "        srcmem_corr.append(shrt_df.tested_valence[index])\n",
    "        \n",
    "    if shrt_df.tested_valence[index] == 'SAFE':\n",
    "        all_safe.append(shrt_df.tested_valence[index])\n",
    "        \n",
    "    if (shrt_df.acc[index] == 1) and (shrt_df.tested_valence[index] == 'SAFE'):\n",
    "        safe_srcmem_corr.append(1)\n",
    "        \n",
    "    if shrt_df.tested_valence[index] == 'THREAT':\n",
    "        all_threat.append(shrt_df.tested_valence[index])\n",
    "        \n",
    "    if (shrt_df.acc[index] == 1) and (shrt_df.tested_valence[index] == 'THREAT'):\n",
    "        threat_srcmem_corr.append(1)\n",
    "        \n",
    "        \n",
    "SM = len(srcmem_corr)/len(shrt_df)\n",
    "pt_SM.append(SM)\n",
    "\n",
    "ls_runSM.append(shrt_df.allruns[3])\n",
    "safe_ls_runSM.append(shrt_df.safe_runsSM[3])\n",
    "threat_ls_runSM.append(shrt_df.threat_runsSM[3]) \n",
    "\n",
    "print(len(all_safe))\n",
    "print(len(all_threat))\n",
    "\n",
    "print(len(safe_srcmem_corr))\n",
    "print(len(threat_srcmem_corr))\n",
    "\n",
    "prop_safe_corr = len(safe_srcmem_corr)/len(all_safe)\n",
    "prop_threat_corr = len(threat_srcmem_corr)/len(all_threat)\n",
    "\n",
    "safe_pt_SM.append(prop_safe_corr)\n",
    "threat_pt_SM.append(prop_threat_corr)"
   ]
  },
  {
   "cell_type": "markdown",
   "metadata": {},
   "source": [
    "## By pt valence"
   ]
  },
  {
   "cell_type": "code",
   "execution_count": null,
   "metadata": {},
   "outputs": [],
   "source": [
    "x = ['Safe', 'Threat']\n",
    "y = [prop_safe_corr, prop_threat_corr]\n",
    "print(y)\n",
    "plt.bar(x, y, width=0.8, bottom=None, color = ['grey', 'purple'], align='center', data=None)\n",
    "plt.ylim(0, 1)\n",
    "plt.xlabel(\"Context\", fontsize = \"medium\")\n",
    "plt.xticks(fontsize = \"medium\")\n",
    "plt.ylabel(\"Mean accuracy\", fontsize = \"medium\")\n",
    "plt.yticks(fontsize = \"medium\")\n",
    "plt.title(\"%s_Source memory by context valence\"%pt_num, fontsize = \"small\")"
   ]
  },
  {
   "cell_type": "code",
   "execution_count": null,
   "metadata": {},
   "outputs": [],
   "source": [
    "SMdf = pd.DataFrame({'Mean_accuracy':pt_SM,\n",
    "                     'Mean_safe': safe_pt_SM,\n",
    "                     'Mean_threat': threat_pt_SM,\n",
    "                     'Runs_SM':ls_runSM,\n",
    "                    'Safe_runsSM': safe_ls_runSM,\n",
    "                    'Threat_runsSM': threat_ls_runSM})\n",
    "SMdf.to_csv(pt_dt+\"SMsummary_finalbatch2.csv\", index = True, header = True)\n",
    "SMdf"
   ]
  },
  {
   "cell_type": "markdown",
   "metadata": {},
   "source": [
    "## Group Graphs"
   ]
  },
  {
   "cell_type": "code",
   "execution_count": null,
   "metadata": {},
   "outputs": [],
   "source": [
    "%config InlineBackend.figure_format = 'retina'\n",
    "plt.style.use('bmh')\n",
    "plt.rcParams['axes.facecolor'] = 'white'\n",
    "plt.rcParams['axes.grid'] = False\n",
    "plt.rc('font', serif='Helvetica Neue') \n",
    "plt.rcParams['lines.markeredgecolor'] = 'w'\n",
    "plt.rcParams['lines.markeredgewidth'] = 0.5\n",
    "plt.rcParams['figure.figsize'] = [8, 6]\n",
    "plt.rcParams['svg.fonttype']= 'none'\n",
    "plt.rcParams.update({'font.size': 24})\n",
    "plt.rc('xtick',labelsize=24)\n",
    "plt.rc('ytick',labelsize=24)"
   ]
  },
  {
   "cell_type": "code",
   "execution_count": null,
   "metadata": {},
   "outputs": [],
   "source": [
    "sum_srcdt = pd.read_csv('C:/Users/ayesh/Desktop/Gradstuff/Temp_mem2022/SCL_final/summary_behav/SMsummary_finalbatch2.csv')\n",
    "sum_srcdt.head()\n",
    "len(sum_srcdt)"
   ]
  },
  {
   "cell_type": "code",
   "execution_count": null,
   "metadata": {},
   "outputs": [],
   "source": [
    "#runs = [1,2,3]\n",
    "runs = [1,2,3,4,5]\n",
    "for index, row in sum_srcdt.iterrows():\n",
    "    b = sum_srcdt.Runs_SM[index]\n",
    "    g= b.replace('[','')\n",
    "    h = g.replace(']','')\n",
    "    res = [float(idx) for idx in h.split(', ')]\n",
    "    plt.plot(runs, res, linestyle=\"-.\")\n",
    "    plt.title(\"All participants\", fontsize = 24)\n",
    "plt.xlabel(\"Runs\")\n",
    "plt.ylabel(\"Accuracy\")\n",
    "plt.xticks(runs)\n",
    "plt.ylim(0,1)\n",
    "plt.show()"
   ]
  },
  {
   "cell_type": "code",
   "execution_count": null,
   "metadata": {},
   "outputs": [],
   "source": [
    "totalpts = len(sum_srcdt)\n",
    "for index, row in sum_srcdt.iterrows():\n",
    "    b = sum_srcdt.Safe_runsSM[index]\n",
    "    g= b.replace('[','')\n",
    "    h = g.replace(']','')\n",
    "    res = [float(idx) for idx in h.split(', ')]\n",
    "    plt.plot(runs, res, linestyle=\"-\", color= \"grey\", label = \"Safe\")\n",
    "    plt.title (\"All participants (N = %s) source mem\"%totalpts, fontsize = 24)\n",
    "for index, row in sum_srcdt.iterrows():\n",
    "    b = sum_srcdt.Threat_runsSM[index]\n",
    "    g= b.replace('[','')\n",
    "    h = g.replace(']','')\n",
    "    res = [float(idx) for idx in h.split(', ')]\n",
    "    plt.plot(runs, res, linestyle=\"--\", color = \"purple\", label = \"Threat\")\n",
    "    plt.title(\"All participants (N = %s) source mem\"%totalpts, fontsize = 24)\n",
    "\n",
    "plt.xlabel(\"Runs\")\n",
    "plt.ylabel(\"Accuracy\")\n",
    "plt.xticks(runs)\n",
    "plt.ylim(0,1)\n",
    "#plt.legend(bbox_to_anchor=(1.05, 1.0), loc='upper left', fontsize = 18)\n",
    "plt.show()"
   ]
  },
  {
   "cell_type": "code",
   "execution_count": null,
   "metadata": {},
   "outputs": [],
   "source": [
    "sum_srcdt"
   ]
  },
  {
   "cell_type": "code",
   "execution_count": null,
   "metadata": {},
   "outputs": [],
   "source": [
    "\n",
    "A = sum_srcdt.Mean_safe\n",
    "B = sum_srcdt.Mean_threat\n",
    "C = [a - b for a, b in zip(A, B)]\n",
    "C\n",
    "x_range = range(1, totalpts + 1)\n",
    "plt.xlim (0, 23)\n",
    "plt.xticks(x_range, fontsize = \"small\")\n",
    "plt.yticks(fontsize = \"small\")\n",
    "plt.scatter(x_range, C, marker='*', color = \"black\", s = 80)\n",
    "plt.xlabel(\"Participant\", fontsize = \"small\")\n",
    "plt.ylabel(\"Accuracy difference (Safe-Threat)\", fontsize = \"small\")\n",
    "plt.title(\"Source memory by valence\", fontsize = \"small\")\n",
    "plt.axhline(y = 0.0, color = 'k', linestyle = '-')"
   ]
  },
  {
   "cell_type": "code",
   "execution_count": null,
   "metadata": {},
   "outputs": [],
   "source": [
    "x_axis = np.arange(totalpts)\n",
    "  \n",
    "plt.bar(x_axis - 0.2, A, 0.4, label = 'Safe', color = \"grey\")\n",
    "plt.bar(x_axis + 0.2, B, 0.4, label = 'Threat', color = \"purple\")\n",
    "\n",
    "plt.xlabel(\"Participants\")\n",
    "plt.ylabel(\"Source Memory Accuracy\")\n",
    "plt.title(\"Source memory by valence\")\n",
    "x_range = range(0, totalpts + 1)\n",
    "y_range = [0.0, 0.2, 0.4, 0.6, 0.8]\n",
    "plt.xlim (-1, 10)\n",
    "plt.xticks(x_range, fontsize = \"x-small\")\n",
    "plt.yticks(y_range, fontsize = \"x-small\")\n",
    "plt.legend(bbox_to_anchor=(1.05, 1.0), loc='upper left', fontsize = 18)\n",
    "plt.xticks(x_range, fontsize = \"x-small\")\n",
    "#plt.show()\n",
    "plt.savefig('srcmem_val.pdf')"
   ]
  },
  {
   "cell_type": "code",
   "execution_count": null,
   "metadata": {},
   "outputs": [],
   "source": [
    "x_axis = np.arange(totalpts)\n",
    "  \n",
    "plt.scatter(x_axis - 0.2, A, marker = 'o', label = 'Safe', color = \"grey\", s = 80)\n",
    "plt.scatter(x_axis + 0.2, B, marker = '*', label = 'Threat', color = \"purple\", s = 80)\n",
    "\n",
    "plt.xlabel(\"Participants\")\n",
    "plt.ylabel(\"Source Memory Accuracy\")\n",
    "plt.title(\"Source memory by valence\")\n",
    "x_range = range(0, totalpts + 1)\n",
    "y_range = [0.0, 0.2, 0.4, 0.6, 0.8]\n",
    "plt.xlim (-1, 10)\n",
    "plt.xticks(x_range, fontsize = \"x-small\")\n",
    "plt.yticks(y_range, fontsize = \"x-small\")\n",
    "plt.legend(bbox_to_anchor=(1.05, 1.0), loc='upper left', fontsize = 18)\n",
    "plt.show()"
   ]
  },
  {
   "cell_type": "code",
   "execution_count": null,
   "metadata": {},
   "outputs": [],
   "source": [
    "x_range"
   ]
  },
  {
   "cell_type": "code",
   "execution_count": null,
   "metadata": {},
   "outputs": [],
   "source": [
    "len(B)"
   ]
  },
  {
   "cell_type": "code",
   "execution_count": null,
   "metadata": {},
   "outputs": [],
   "source": []
  }
 ],
 "metadata": {
  "kernelspec": {
   "display_name": "Python 3",
   "language": "python",
   "name": "python3"
  },
  "language_info": {
   "codemirror_mode": {
    "name": "ipython",
    "version": 3
   },
   "file_extension": ".py",
   "mimetype": "text/x-python",
   "name": "python",
   "nbconvert_exporter": "python",
   "pygments_lexer": "ipython3",
   "version": "3.8.5"
  }
 },
 "nbformat": 4,
 "nbformat_minor": 4
}
