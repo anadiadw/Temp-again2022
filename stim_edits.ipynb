{
 "cells": [
  {
   "cell_type": "code",
   "execution_count": 1,
   "metadata": {},
   "outputs": [],
   "source": [
    "## importing all libraries and dependencies\n",
    "import pandas as pd\n",
    "import numpy as np\n",
    "import os\n",
    "from os import listdir\n",
    "import glob\n",
    "from os.path import isfile, join\n",
    "import shutil\n",
    "import PIL\n",
    "from PIL import Image\n",
    "import random\n",
    "import math\n",
    "from heapq import merge\n",
    "from random import *"
   ]
  },
  {
   "cell_type": "markdown",
   "metadata": {},
   "source": [
    "## Resize"
   ]
  },
  {
   "cell_type": "code",
   "execution_count": 13,
   "metadata": {},
   "outputs": [],
   "source": [
    "## resize\n",
    "image_dir = '/Users/ayesh/Downloads/try/try2/ls/'\n",
    "image_list = os.listdir(image_dir)\n",
    "printed_list = []\n",
    "for a in image_list:\n",
    "    im = Image.open (image_dir + a)\n",
    "    a_resized = im.resize((500, 500), Image.ANTIALIAS)\n",
    "    a_resized.save(image_dir + a, \"PNG\", optimize=True)\n",
    "    a_size = a_resized.size, a\n",
    "    printed_list.append(a_size)"
   ]
  },
  {
   "cell_type": "markdown",
   "metadata": {},
   "source": [
    "###### if individual stims"
   ]
  },
  {
   "cell_type": "code",
   "execution_count": 11,
   "metadata": {},
   "outputs": [],
   "source": [
    "b = '/Users/ayesh/Downloads/try/try2/Twin_track_of_train_rails_in_a_wooded_area.jpeg'\n",
    "im = Image.open (b)\n",
    "b_resized = im.resize((500, 500), Image.ANTIALIAS)\n",
    "b_resized.save(b, \"PNG\", optimize=True)"
   ]
  },
  {
   "cell_type": "markdown",
   "metadata": {},
   "source": [
    "## converting to a csv"
   ]
  },
  {
   "cell_type": "code",
   "execution_count": null,
   "metadata": {},
   "outputs": [],
   "source": []
  }
 ],
 "metadata": {
  "kernelspec": {
   "display_name": "Python 3",
   "language": "python",
   "name": "python3"
  },
  "language_info": {
   "codemirror_mode": {
    "name": "ipython",
    "version": 3
   },
   "file_extension": ".py",
   "mimetype": "text/x-python",
   "name": "python",
   "nbconvert_exporter": "python",
   "pygments_lexer": "ipython3",
   "version": "3.8.5"
  }
 },
 "nbformat": 4,
 "nbformat_minor": 4
}
