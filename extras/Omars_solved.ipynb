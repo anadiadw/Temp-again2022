{
 "cells": [
  {
   "cell_type": "code",
   "execution_count": 6,
   "metadata": {},
   "outputs": [
    {
     "name": "stdout",
     "output_type": "stream",
     "text": [
      "\n",
      "Bismillah!\n",
      "adding\n",
      "TT\n",
      "1\n",
      "TT\n",
      "adding\n",
      "TT\n",
      "2\n",
      "TTT\n",
      "adding\n",
      "TT\n",
      "3\n",
      "TTTT\n",
      "adding\n",
      "TT\n",
      "4\n",
      "TTTTT\n",
      "adding\n",
      "TS\n",
      "0\n",
      "TTTTTS\n",
      "adding\n",
      "ST\n",
      "4\n",
      "TTTTTST\n",
      "adding\n",
      "TS\n",
      "0\n",
      "TTTTTSTS\n",
      "adding\n",
      "ST\n",
      "4\n",
      "TTTTTSTST\n",
      "adding\n",
      "TS\n",
      "0\n",
      "TTTTTSTSTS\n",
      "adding\n",
      "ST\n",
      "4\n",
      "TTTTTSTSTST\n",
      "adding\n",
      "TS\n",
      "0\n",
      "TTTTTSTSTSTS\n",
      "adding\n",
      "ST\n",
      "4\n",
      "TTTTTSTSTSTST\n"
     ]
    },
    {
     "ename": "KeyboardInterrupt",
     "evalue": "",
     "output_type": "error",
     "traceback": [
      "\u001b[1;31m---------------------------------------------------------------------------\u001b[0m",
      "\u001b[1;31mKeyboardInterrupt\u001b[0m                         Traceback (most recent call last)",
      "\u001b[1;32m<ipython-input-6-1c64afe3c50d>\u001b[0m in \u001b[0;36m<module>\u001b[1;34m\u001b[0m\n\u001b[0;32m     15\u001b[0m         \u001b[0mprint\u001b[0m\u001b[1;33m(\u001b[0m\u001b[0ms2\u001b[0m\u001b[1;33m.\u001b[0m\u001b[0mcount\u001b[0m\u001b[1;33m(\u001b[0m\u001b[0ms\u001b[0m\u001b[1;33m[\u001b[0m\u001b[1;33m-\u001b[0m\u001b[1;36m1\u001b[0m\u001b[1;33m]\u001b[0m \u001b[1;33m+\u001b[0m \u001b[0mx\u001b[0m\u001b[1;33m)\u001b[0m\u001b[1;33m)\u001b[0m\u001b[1;33m\u001b[0m\u001b[1;33m\u001b[0m\u001b[0m\n\u001b[0;32m     16\u001b[0m         \u001b[0mprint\u001b[0m\u001b[1;33m(\u001b[0m\u001b[0ms\u001b[0m\u001b[1;33m)\u001b[0m\u001b[1;33m\u001b[0m\u001b[1;33m\u001b[0m\u001b[0m\n\u001b[1;32m---> 17\u001b[1;33m     \u001b[1;32mif\u001b[0m \u001b[0mlen\u001b[0m\u001b[1;33m(\u001b[0m\u001b[0ms2\u001b[0m\u001b[1;33m)\u001b[0m \u001b[1;33m==\u001b[0m \u001b[0mlength\u001b[0m\u001b[1;33m*\u001b[0m\u001b[1;36m4\u001b[0m\u001b[1;33m:\u001b[0m \u001b[1;32mbreak\u001b[0m\u001b[1;33m\u001b[0m\u001b[1;33m\u001b[0m\u001b[0m\n\u001b[0m\u001b[0;32m     18\u001b[0m \u001b[1;33m\u001b[0m\u001b[0m\n\u001b[0;32m     19\u001b[0m \u001b[0mprint\u001b[0m\u001b[1;33m(\u001b[0m\u001b[1;34m\"\\n\\n\"\u001b[0m\u001b[1;33m)\u001b[0m\u001b[1;33m\u001b[0m\u001b[1;33m\u001b[0m\u001b[0m\n",
      "\u001b[1;31mKeyboardInterrupt\u001b[0m: "
     ]
    }
   ],
   "source": [
    "from random import *\n",
    "\n",
    "length = 4\n",
    "cont = [\"S\", \"T\"]\n",
    "print(\"\\nBismillah!\")\n",
    "s = choice(cont)\n",
    "s2 = []\n",
    "while True:\n",
    "    x = choice(cont)\n",
    "    if not s2 or s2.count(s[-1] + x) < length:\n",
    "        print(\"adding\")\n",
    "        s2.append(s[-1] + x)\n",
    "        print(s[-1] + x)\n",
    "        s += x\n",
    "        print(s2.count(s[-1] + x))\n",
    "        print(s)\n",
    "    if len(s2) == length*4: break\n",
    "\n",
    "print(\"\\n\\n\")\n",
    "print(s)\n",
    "print(s2)\n",
    "print(s2.count(\"SS\"),\n",
    "      s2.count(\"ST\"),\n",
    "      s2.count(\"TS\"),\n",
    "      s2.count(\"TT\"),\n",
    "      len(s),\n",
    "      len(s2))\n",
    "\n",
    "print(\"\\n\\nAlhumdulilaah!\")\n",
    "print(\"\\nOmar solved it! may Allah ease his troubles ameen!\")"
   ]
  },
  {
   "cell_type": "code",
   "execution_count": null,
   "metadata": {},
   "outputs": [],
   "source": []
  },
  {
   "cell_type": "code",
   "execution_count": null,
   "metadata": {},
   "outputs": [],
   "source": []
  }
 ],
 "metadata": {
  "kernelspec": {
   "display_name": "Python 3",
   "language": "python",
   "name": "python3"
  },
  "language_info": {
   "codemirror_mode": {
    "name": "ipython",
    "version": 3
   },
   "file_extension": ".py",
   "mimetype": "text/x-python",
   "name": "python",
   "nbconvert_exporter": "python",
   "pygments_lexer": "ipython3",
   "version": "3.8.5"
  }
 },
 "nbformat": 4,
 "nbformat_minor": 4
}
